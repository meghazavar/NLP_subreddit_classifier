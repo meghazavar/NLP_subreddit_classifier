{
 "cells": [
  {
   "cell_type": "markdown",
   "metadata": {},
   "source": [
    "# Problem  Statement : Classify the post in to one of the two categories?"
   ]
  },
  {
   "cell_type": "code",
   "execution_count": 69,
   "metadata": {},
   "outputs": [],
   "source": [
    "#!pip install wordcloud\n",
    "import seaborn as sns\n",
    "from wordcloud import WordCloud\n",
    "import matplotlib.pyplot as plt\n",
    "import requests\n",
    "\n",
    "import pandas as pd\n",
    "import numpy as np\n",
    "import sys \n",
    "import regex as re\n",
    "sys.path.insert(0, '/Users/mybiyani/Desktop/ga/common_code/')\n",
    "from eda  import Helper\n",
    "from sklearn.linear_model import LogisticRegression\n",
    "from nltk.stem.porter import PorterStemmer\n",
    "from sklearn.metrics import confusion_matrix\n",
    "from sklearn.model_selection import train_test_split,cross_val_score,GridSearchCV \n",
    "from sklearn.feature_extraction.text import CountVectorizer,TfidfVectorizer\n",
    "from sklearn.neighbors import KNeighborsClassifier\n",
    "from sklearn.naive_bayes import GaussianNB,MultinomialNB,BernoulliNB\n",
    "from sklearn.pipeline import Pipeline\n",
    "from sklearn.feature_extraction import stop_words\n",
    "from sklearn.preprocessing import StandardScaler\n",
    "from sklearn.svm import SVC\n",
    "from sklearn.preprocessing import LabelEncoder "
   ]
  },
  {
   "cell_type": "code",
   "execution_count": 70,
   "metadata": {},
   "outputs": [
    {
     "name": "stdout",
     "output_type": "stream",
     "text": [
      "Hello World!\n"
     ]
    }
   ],
   "source": [
    "edahelper =Helper()"
   ]
  },
  {
   "cell_type": "markdown",
   "metadata": {},
   "source": [
    "## Gather and prepare your data using the requests library.\n",
    "Using Pushshift's API, you'll collect posts from two subreddits of your choosing."
   ]
  },
  {
   "cell_type": "code",
   "execution_count": 71,
   "metadata": {},
   "outputs": [],
   "source": [
    "subreddits_list= ['travel','food','todayilearned','Relationships']\n",
    "#subreddits_list= ['travel','food']\n",
    "reddit_post_features = ['title','subreddit','created_utc']"
   ]
  },
  {
   "cell_type": "code",
   "execution_count": 72,
   "metadata": {},
   "outputs": [
    {
     "name": "stdout",
     "output_type": "stream",
     "text": [
      "travel - getting batch 1 of  500 posts....for 1580171621\n",
      "Retrieved 500 posts fortravel from 2020-01-26 02:46:43 to 2020-01-28 00:33:29\n",
      "food - getting batch 1 of  500 posts....for 1580171621\n",
      "Retrieved 500 posts forfood from 2020-01-27 01:02:22 to 2020-01-28 00:30:23\n"
     ]
    },
    {
     "name": "stderr",
     "output_type": "stream",
     "text": [
      "/Users/mybiyani/opt/anaconda3/lib/python3.7/site-packages/ipykernel_launcher.py:28: FutureWarning: Sorting because non-concatenation axis is not aligned. A future version\n",
      "of pandas will change to not sort by default.\n",
      "\n",
      "To accept the future behavior, pass 'sort=False'.\n",
      "\n",
      "To retain the current behavior and silence the warning, pass 'sort=True'.\n",
      "\n"
     ]
    },
    {
     "name": "stdout",
     "output_type": "stream",
     "text": [
      "todayilearned - getting batch 1 of  500 posts....for 1580171621\n",
      "Retrieved 500 posts fortodayilearned from 2020-01-26 19:14:46 to 2020-01-28 00:23:51\n",
      "Relationships - getting batch 1 of  500 posts....for 1580171621\n",
      "Retrieved 500 posts forRelationships from 2020-01-27 09:33:57 to 2020-01-28 00:31:59\n"
     ]
    }
   ],
   "source": [
    "'''  Get the specified numer of Subreddit posts for a given sub-reddit'''\n",
    "def get_submission( subreddit, n = 500 ):\n",
    "    df= pd.DataFrame()\n",
    "    base_url ='https://api.pushshift.io/'\n",
    "    submission_url = base_url + '/reddit/search/submission'\n",
    "    epoch_min_ts =  1580171621 #  EPOCH timestamp for Jan 27 2020  now\n",
    "    batch_size=500\n",
    "    for i in range(int(n/batch_size)):\n",
    "        \n",
    "        params ={'subreddit' :subreddit ,'size' :batch_size, 'sort' :'desc','sort_type':'created_utc' ,'before' :epoch_min_ts }\n",
    "        response = requests.get(submission_url,params)\n",
    "        if( response.status_code !=200):\n",
    "            print(f\"Api call failed with error {response.status_code }\")\n",
    "        else:\n",
    "            print(f\"{subreddit} - getting batch {i+1} of  500 posts....for {epoch_min_ts}\")\n",
    "        submissions =response.json()\n",
    "        posts = submissions['data']\n",
    "        dfi =pd.DataFrame(posts) \n",
    "        dfi['created_utc_dt'] = dfi['created_utc'].apply(lambda x: pd.Timestamp(x,unit='s'))\n",
    "        epoch_min_ts =dfi['created_utc'].min()\n",
    "        df= pd.concat([df,dfi],sort=False) \n",
    "    print(f\"Retrieved {len(df)} posts for{subreddit} from {df['created_utc_dt'].min()} to {df['created_utc_dt'].max()}\")   \n",
    "    return df\n",
    "#---------------------------------------------------------------------------------------------------\n",
    "df_subreddit = pd.DataFrame()\n",
    "for i in range(len(subreddits_list)):  \n",
    "     dfi = get_submission(subreddits_list[i])\n",
    "     df_subreddit = pd.concat([df_subreddit,dfi])\n"
   ]
  },
  {
   "cell_type": "code",
   "execution_count": 73,
   "metadata": {},
   "outputs": [
    {
     "data": {
      "text/plain": [
       "todayilearned    500\n",
       "relationships    500\n",
       "food             500\n",
       "travel           500\n",
       "Name: subreddit, dtype: int64"
      ]
     },
     "execution_count": 73,
     "metadata": {},
     "output_type": "execute_result"
    }
   ],
   "source": [
    "df_subreddit['subreddit'].value_counts()"
   ]
  },
  {
   "cell_type": "code",
   "execution_count": 74,
   "metadata": {},
   "outputs": [
    {
     "data": {
      "text/plain": [
       "2000"
      ]
     },
     "execution_count": 74,
     "metadata": {},
     "output_type": "execute_result"
    }
   ],
   "source": [
    "len(df_subreddit)"
   ]
  },
  {
   "cell_type": "code",
   "execution_count": 75,
   "metadata": {},
   "outputs": [],
   "source": [
    "df_subreddit.to_csv('offline_travel_food_small.csv',index =False)"
   ]
  },
  {
   "cell_type": "markdown",
   "metadata": {},
   "source": [
    "## EDA"
   ]
  },
  {
   "cell_type": "code",
   "execution_count": 76,
   "metadata": {},
   "outputs": [
    {
     "data": {
      "text/html": [
       "<div>\n",
       "<style scoped>\n",
       "    .dataframe tbody tr th:only-of-type {\n",
       "        vertical-align: middle;\n",
       "    }\n",
       "\n",
       "    .dataframe tbody tr th {\n",
       "        vertical-align: top;\n",
       "    }\n",
       "\n",
       "    .dataframe thead th {\n",
       "        text-align: right;\n",
       "    }\n",
       "</style>\n",
       "<table border=\"1\" class=\"dataframe\">\n",
       "  <thead>\n",
       "    <tr style=\"text-align: right;\">\n",
       "      <th></th>\n",
       "      <th>title</th>\n",
       "      <th>subreddit</th>\n",
       "      <th>created_utc</th>\n",
       "    </tr>\n",
       "  </thead>\n",
       "  <tbody>\n",
       "    <tr>\n",
       "      <th>0</th>\n",
       "      <td>[Homemade] Hot ham off the bone, Colby cheese,...</td>\n",
       "      <td>food</td>\n",
       "      <td>1580171423</td>\n",
       "    </tr>\n",
       "    <tr>\n",
       "      <th>1</th>\n",
       "      <td>[homemade] creamy parmesan spinach chicken</td>\n",
       "      <td>food</td>\n",
       "      <td>1580171406</td>\n",
       "    </tr>\n",
       "    <tr>\n",
       "      <th>2</th>\n",
       "      <td>Galaxy chocolate fudge cake messy but nice.</td>\n",
       "      <td>food</td>\n",
       "      <td>1580171393</td>\n",
       "    </tr>\n",
       "    <tr>\n",
       "      <th>3</th>\n",
       "      <td>What is this spice I bought at an African (mai...</td>\n",
       "      <td>food</td>\n",
       "      <td>1580171316</td>\n",
       "    </tr>\n",
       "    <tr>\n",
       "      <th>4</th>\n",
       "      <td>[homemade]Lamb burger with cheddar, bacon, let...</td>\n",
       "      <td>food</td>\n",
       "      <td>1580171175</td>\n",
       "    </tr>\n",
       "    <tr>\n",
       "      <th>...</th>\n",
       "      <td>...</td>\n",
       "      <td>...</td>\n",
       "      <td>...</td>\n",
       "    </tr>\n",
       "    <tr>\n",
       "      <th>495</th>\n",
       "      <td>I (18M) was wondering if it’s worth risking as...</td>\n",
       "      <td>relationships</td>\n",
       "      <td>1580118017</td>\n",
       "    </tr>\n",
       "    <tr>\n",
       "      <th>496</th>\n",
       "      <td>[Update] I (30M) was right being worried about...</td>\n",
       "      <td>relationships</td>\n",
       "      <td>1580118009</td>\n",
       "    </tr>\n",
       "    <tr>\n",
       "      <th>497</th>\n",
       "      <td>My friend's house was a pig stye i lightly jok...</td>\n",
       "      <td>relationships</td>\n",
       "      <td>1580117863</td>\n",
       "    </tr>\n",
       "    <tr>\n",
       "      <th>498</th>\n",
       "      <td>Seeking perspective (F, 29) on potential partn...</td>\n",
       "      <td>relationships</td>\n",
       "      <td>1580117844</td>\n",
       "    </tr>\n",
       "    <tr>\n",
       "      <th>499</th>\n",
       "      <td>confused and in need of advice</td>\n",
       "      <td>relationships</td>\n",
       "      <td>1580117637</td>\n",
       "    </tr>\n",
       "  </tbody>\n",
       "</table>\n",
       "<p>1500 rows × 3 columns</p>\n",
       "</div>"
      ],
      "text/plain": [
       "                                                 title      subreddit  \\\n",
       "0    [Homemade] Hot ham off the bone, Colby cheese,...           food   \n",
       "1           [homemade] creamy parmesan spinach chicken           food   \n",
       "2          Galaxy chocolate fudge cake messy but nice.           food   \n",
       "3    What is this spice I bought at an African (mai...           food   \n",
       "4    [homemade]Lamb burger with cheddar, bacon, let...           food   \n",
       "..                                                 ...            ...   \n",
       "495  I (18M) was wondering if it’s worth risking as...  relationships   \n",
       "496  [Update] I (30M) was right being worried about...  relationships   \n",
       "497  My friend's house was a pig stye i lightly jok...  relationships   \n",
       "498  Seeking perspective (F, 29) on potential partn...  relationships   \n",
       "499                     confused and in need of advice  relationships   \n",
       "\n",
       "     created_utc  \n",
       "0     1580171423  \n",
       "1     1580171406  \n",
       "2     1580171393  \n",
       "3     1580171316  \n",
       "4     1580171175  \n",
       "..           ...  \n",
       "495   1580118017  \n",
       "496   1580118009  \n",
       "497   1580117863  \n",
       "498   1580117844  \n",
       "499   1580117637  \n",
       "\n",
       "[1500 rows x 3 columns]"
      ]
     },
     "execution_count": 76,
     "metadata": {},
     "output_type": "execute_result"
    }
   ],
   "source": [
    "df_subreddit[df_subreddit['subreddit'] !='travel'][reddit_post_features]"
   ]
  },
  {
   "cell_type": "code",
   "execution_count": 77,
   "metadata": {},
   "outputs": [
    {
     "name": "stdout",
     "output_type": "stream",
     "text": [
      "* We have 2000 number of rows 75 number of columns\n",
      "* Numeric column count :32\n",
      "* Numeric  columns :\n",
      "---------------------\n",
      "allow_live_comments                 bool\n",
      "author_patreon_flair                bool\n",
      "author_premium                      bool\n",
      "can_mod_post                        bool\n",
      "contest_mode                        bool\n",
      "created_utc                        int64\n",
      "created_utc_dt            datetime64[ns]\n",
      "is_crosspostable                    bool\n",
      "is_meta                             bool\n",
      "is_original_content                 bool\n",
      "is_reddit_media_domain              bool\n",
      "is_robot_indexable                  bool\n",
      "is_self                             bool\n",
      "is_video                            bool\n",
      "locked                              bool\n",
      "media_only                          bool\n",
      "no_follow                           bool\n",
      "num_comments                       int64\n",
      "num_crossposts                     int64\n",
      "over_18                             bool\n",
      "pinned                              bool\n",
      "pwls                               int64\n",
      "retrieved_on                       int64\n",
      "score                              int64\n",
      "send_replies                        bool\n",
      "spoiler                             bool\n",
      "stickied                            bool\n",
      "subreddit_subscribers              int64\n",
      "thumbnail_height                 float64\n",
      "thumbnail_width                  float64\n",
      "total_awards_received              int64\n",
      "wls                                int64\n",
      "dtype: object\n",
      "* Non-Numeric column count :43\n",
      "* Non-numeric  columns :\n",
      "---------------------\n",
      "all_awardings                    object\n",
      "author                           object\n",
      "author_cakeday                   object\n",
      "author_flair_background_color    object\n",
      "author_flair_css_class           object\n",
      "author_flair_richtext            object\n",
      "author_flair_template_id         object\n",
      "author_flair_text                object\n",
      "author_flair_text_color          object\n",
      "author_flair_type                object\n",
      "author_fullname                  object\n",
      "awarders                         object\n",
      "crosspost_parent                 object\n",
      "crosspost_parent_list            object\n",
      "domain                           object\n",
      "full_link                        object\n",
      "gildings                         object\n",
      "id                               object\n",
      "link_flair_background_color      object\n",
      "link_flair_css_class             object\n",
      "link_flair_richtext              object\n",
      "link_flair_template_id           object\n",
      "link_flair_text                  object\n",
      "link_flair_text_color            object\n",
      "link_flair_type                  object\n",
      "media                            object\n",
      "media_embed                      object\n",
      "parent_whitelist_status          object\n",
      "permalink                        object\n",
      "post_hint                        object\n",
      "preview                          object\n",
      "removed_by_category              object\n",
      "secure_media                     object\n",
      "secure_media_embed               object\n",
      "selftext                         object\n",
      "subreddit                        object\n",
      "subreddit_id                     object\n",
      "subreddit_type                   object\n",
      "suggested_sort                   object\n",
      "thumbnail                        object\n",
      "title                            object\n",
      "url                              object\n",
      "whitelist_status                 object\n",
      "dtype: object\n",
      "* The missing data count is 36322\n",
      "author_cakeday                   99.65\n",
      "author_flair_background_color    99.50\n",
      "author_flair_template_id         99.50\n",
      "crosspost_parent                 99.30\n",
      "crosspost_parent_list            99.30\n",
      "author_flair_text                99.10\n",
      "author_flair_css_class           99.00\n",
      "author_flair_text_color          99.00\n",
      "secure_media_embed               96.70\n",
      "secure_media                     96.70\n",
      "media_embed                      96.70\n",
      "media                            96.70\n",
      "link_flair_template_id           85.20\n",
      "suggested_sort                   75.00\n",
      "thumbnail_width                  74.65\n",
      "thumbnail_height                 74.65\n",
      "post_hint                        74.25\n",
      "preview                          74.25\n",
      "link_flair_css_class             60.60\n",
      "link_flair_text                  58.90\n",
      "removed_by_category              57.45\n",
      "dtype: float64\n",
      "target subreddit is non-numeric.We need to translate this to number\n"
     ]
    }
   ],
   "source": [
    "edahelper.inspect_dataset(df_subreddit,'subreddit')"
   ]
  },
  {
   "cell_type": "code",
   "execution_count": 78,
   "metadata": {},
   "outputs": [
    {
     "data": {
      "text/html": [
       "<div>\n",
       "<style scoped>\n",
       "    .dataframe tbody tr th:only-of-type {\n",
       "        vertical-align: middle;\n",
       "    }\n",
       "\n",
       "    .dataframe tbody tr th {\n",
       "        vertical-align: top;\n",
       "    }\n",
       "\n",
       "    .dataframe thead th {\n",
       "        text-align: right;\n",
       "    }\n",
       "</style>\n",
       "<table border=\"1\" class=\"dataframe\">\n",
       "  <thead>\n",
       "    <tr style=\"text-align: right;\">\n",
       "      <th></th>\n",
       "      <th>title</th>\n",
       "      <th>subreddit</th>\n",
       "      <th>created_utc</th>\n",
       "    </tr>\n",
       "  </thead>\n",
       "  <tbody>\n",
       "    <tr>\n",
       "      <th>0</th>\n",
       "      <td>homemad hot ham off the bone colbi chees and h...</td>\n",
       "      <td>food</td>\n",
       "      <td>1580171423</td>\n",
       "    </tr>\n",
       "    <tr>\n",
       "      <th>1</th>\n",
       "      <td>homemad creami parmesan spinach chicken</td>\n",
       "      <td>food</td>\n",
       "      <td>1580171406</td>\n",
       "    </tr>\n",
       "    <tr>\n",
       "      <th>2</th>\n",
       "      <td>galaxi chocol fudg cake messi but nice</td>\n",
       "      <td>food</td>\n",
       "      <td>1580171393</td>\n",
       "    </tr>\n",
       "    <tr>\n",
       "      <th>3</th>\n",
       "      <td>what is thi spice i bought at an african mainl...</td>\n",
       "      <td>food</td>\n",
       "      <td>1580171316</td>\n",
       "    </tr>\n",
       "    <tr>\n",
       "      <th>4</th>\n",
       "      <td>homemad lamb burger with cheddar bacon lettuc ...</td>\n",
       "      <td>food</td>\n",
       "      <td>1580171175</td>\n",
       "    </tr>\n",
       "    <tr>\n",
       "      <th>...</th>\n",
       "      <td>...</td>\n",
       "      <td>...</td>\n",
       "      <td>...</td>\n",
       "    </tr>\n",
       "    <tr>\n",
       "      <th>495</th>\n",
       "      <td>i m wa wonder if it s worth risk ask out a fri...</td>\n",
       "      <td>relationships</td>\n",
       "      <td>1580118017</td>\n",
       "    </tr>\n",
       "    <tr>\n",
       "      <th>496</th>\n",
       "      <td>updat i m wa right be worri about my relations...</td>\n",
       "      <td>relationships</td>\n",
       "      <td>1580118009</td>\n",
       "    </tr>\n",
       "    <tr>\n",
       "      <th>497</th>\n",
       "      <td>my friend s hous wa a pig stye i lightli joke ...</td>\n",
       "      <td>relationships</td>\n",
       "      <td>1580117863</td>\n",
       "    </tr>\n",
       "    <tr>\n",
       "      <th>498</th>\n",
       "      <td>seek perspect f on potenti partner m</td>\n",
       "      <td>relationships</td>\n",
       "      <td>1580117844</td>\n",
       "    </tr>\n",
       "    <tr>\n",
       "      <th>499</th>\n",
       "      <td>confus and in need of advic</td>\n",
       "      <td>relationships</td>\n",
       "      <td>1580117637</td>\n",
       "    </tr>\n",
       "  </tbody>\n",
       "</table>\n",
       "<p>1500 rows × 3 columns</p>\n",
       "</div>"
      ],
      "text/plain": [
       "                                                 title      subreddit  \\\n",
       "0    homemad hot ham off the bone colbi chees and h...           food   \n",
       "1              homemad creami parmesan spinach chicken           food   \n",
       "2               galaxi chocol fudg cake messi but nice           food   \n",
       "3    what is thi spice i bought at an african mainl...           food   \n",
       "4    homemad lamb burger with cheddar bacon lettuc ...           food   \n",
       "..                                                 ...            ...   \n",
       "495  i m wa wonder if it s worth risk ask out a fri...  relationships   \n",
       "496  updat i m wa right be worri about my relations...  relationships   \n",
       "497  my friend s hous wa a pig stye i lightli joke ...  relationships   \n",
       "498               seek perspect f on potenti partner m  relationships   \n",
       "499                        confus and in need of advic  relationships   \n",
       "\n",
       "     created_utc  \n",
       "0     1580171423  \n",
       "1     1580171406  \n",
       "2     1580171393  \n",
       "3     1580171316  \n",
       "4     1580171175  \n",
       "..           ...  \n",
       "495   1580118017  \n",
       "496   1580118009  \n",
       "497   1580117863  \n",
       "498   1580117844  \n",
       "499   1580117637  \n",
       "\n",
       "[1500 rows x 3 columns]"
      ]
     },
     "execution_count": 78,
     "metadata": {},
     "output_type": "execute_result"
    }
   ],
   "source": [
    "def create_bag_of_words(msg):\n",
    "    #1 remove anything other than alphabets\n",
    "    letters_only = re.sub(\"[^a-zA-Z]\", \" \", msg) # Remove non-letters.\n",
    "    words = letters_only.lower().split()  #Convert to lower case, split into individual words.\n",
    "    ps= PorterStemmer()\n",
    "    base_words =[ps.stem(w) for w  in words] \n",
    "    return(\" \".join(base_words))# 6. Join the words back into one string separated by space, \n",
    "\n",
    "df_subreddit['title'] = df_subreddit['title'].apply(create_bag_of_words)\n",
    "df_subreddit[df_subreddit['subreddit'] !='travel'][reddit_post_features]"
   ]
  },
  {
   "cell_type": "markdown",
   "metadata": {},
   "source": [
    "#### Convert the Target variable to the  numerical value"
   ]
  },
  {
   "cell_type": "code",
   "execution_count": 79,
   "metadata": {},
   "outputs": [],
   "source": [
    "le =LabelEncoder()\n",
    "df_subreddit[\"subreddit_num\"] =le.fit_transform(df_subreddit[\"subreddit\"])"
   ]
  },
  {
   "cell_type": "markdown",
   "metadata": {},
   "source": [
    "####  Base line score - 50 %"
   ]
  },
  {
   "cell_type": "code",
   "execution_count": 80,
   "metadata": {},
   "outputs": [
    {
     "data": {
      "text/plain": [
       "todayilearned    500\n",
       "relationships    500\n",
       "food             500\n",
       "travel           500\n",
       "Name: subreddit, dtype: int64"
      ]
     },
     "execution_count": 80,
     "metadata": {},
     "output_type": "execute_result"
    }
   ],
   "source": [
    "df_subreddit['subreddit'].value_counts()"
   ]
  },
  {
   "cell_type": "code",
   "execution_count": 81,
   "metadata": {},
   "outputs": [
    {
     "data": {
      "text/plain": [
       "3    0.25\n",
       "2    0.25\n",
       "1    0.25\n",
       "0    0.25\n",
       "Name: subreddit_num, dtype: float64"
      ]
     },
     "execution_count": 81,
     "metadata": {},
     "output_type": "execute_result"
    }
   ],
   "source": [
    "df_subreddit['subreddit_num'].value_counts(normalize=True)"
   ]
  },
  {
   "cell_type": "code",
   "execution_count": 82,
   "metadata": {},
   "outputs": [
    {
     "data": {
      "text/html": [
       "<div>\n",
       "<style scoped>\n",
       "    .dataframe tbody tr th:only-of-type {\n",
       "        vertical-align: middle;\n",
       "    }\n",
       "\n",
       "    .dataframe tbody tr th {\n",
       "        vertical-align: top;\n",
       "    }\n",
       "\n",
       "    .dataframe thead th {\n",
       "        text-align: right;\n",
       "    }\n",
       "</style>\n",
       "<table border=\"1\" class=\"dataframe\">\n",
       "  <thead>\n",
       "    <tr style=\"text-align: right;\">\n",
       "      <th></th>\n",
       "      <th>title</th>\n",
       "      <th>subreddit</th>\n",
       "      <th>subreddit_num</th>\n",
       "    </tr>\n",
       "  </thead>\n",
       "  <tbody>\n",
       "    <tr>\n",
       "      <th>0</th>\n",
       "      <td>germani franc belgium netherland with month ol...</td>\n",
       "      <td>travel</td>\n",
       "      <td>3</td>\n",
       "    </tr>\n",
       "    <tr>\n",
       "      <th>1</th>\n",
       "      <td>chongq is beauti even if no one is out right n...</td>\n",
       "      <td>travel</td>\n",
       "      <td>3</td>\n",
       "    </tr>\n",
       "    <tr>\n",
       "      <th>2</th>\n",
       "      <td>first time visit budapest in earli octob</td>\n",
       "      <td>travel</td>\n",
       "      <td>3</td>\n",
       "    </tr>\n",
       "    <tr>\n",
       "      <th>3</th>\n",
       "      <td>chongq from jiefangbei district the build are ...</td>\n",
       "      <td>travel</td>\n",
       "      <td>3</td>\n",
       "    </tr>\n",
       "    <tr>\n",
       "      <th>4</th>\n",
       "      <td>i wa look for good travel channel and i found ...</td>\n",
       "      <td>travel</td>\n",
       "      <td>3</td>\n",
       "    </tr>\n",
       "  </tbody>\n",
       "</table>\n",
       "</div>"
      ],
      "text/plain": [
       "                                               title subreddit  subreddit_num\n",
       "0  germani franc belgium netherland with month ol...    travel              3\n",
       "1  chongq is beauti even if no one is out right n...    travel              3\n",
       "2           first time visit budapest in earli octob    travel              3\n",
       "3  chongq from jiefangbei district the build are ...    travel              3\n",
       "4  i wa look for good travel channel and i found ...    travel              3"
      ]
     },
     "execution_count": 82,
     "metadata": {},
     "output_type": "execute_result"
    }
   ],
   "source": [
    "df_subreddit[['title','subreddit', 'subreddit_num']].head()"
   ]
  },
  {
   "cell_type": "markdown",
   "metadata": {},
   "source": [
    "# Create models\n"
   ]
  },
  {
   "cell_type": "markdown",
   "metadata": {},
   "source": [
    "######  Split the data in training and testing set\n"
   ]
  },
  {
   "cell_type": "code",
   "execution_count": 83,
   "metadata": {},
   "outputs": [],
   "source": [
    "X =df_subreddit['title']\n",
    "y=df_subreddit['subreddit_num']\n",
    "X_train, X_test, y_train,y_test= train_test_split(X,y,test_size =0.33 ,random_state=42, stratify =y)"
   ]
  },
  {
   "cell_type": "code",
   "execution_count": 84,
   "metadata": {},
   "outputs": [
    {
     "name": "stdout",
     "output_type": "stream",
     "text": [
      "CountVectorizer Total features = 3687\n"
     ]
    },
    {
     "data": {
      "text/plain": [
       "til             293\n",
       "homemad         201\n",
       "wa              174\n",
       "year             80\n",
       "thi              71\n",
       "travel           69\n",
       "boyfriend        55\n",
       "hi               55\n",
       "ate              52\n",
       "friend           52\n",
       "relationship     48\n",
       "best             47\n",
       "like             45\n",
       "ha               44\n",
       "new              44\n",
       "know             44\n",
       "kobe             44\n",
       "girlfriend       43\n",
       "feel             43\n",
       "time             41\n",
       "dtype: int64"
      ]
     },
     "execution_count": 84,
     "metadata": {},
     "output_type": "execute_result"
    }
   ],
   "source": [
    "cv = CountVectorizer(stop_words='english')\n",
    "cv.fit(X_train)\n",
    "X_train_cv = cv.transform(X_train)\n",
    "print(f\"CountVectorizer Total features = {len(cv.get_feature_names())}\")\n",
    "words = pd.DataFrame(X_train_cv.todense(), columns=cv.get_feature_names())\n",
    "words.sum().sort_values(ascending=False).head(20)"
   ]
  },
  {
   "cell_type": "code",
   "execution_count": 100,
   "metadata": {},
   "outputs": [
    {
     "name": "stdout",
     "output_type": "stream",
     "text": [
      "TfidfVectorizer Total features = 3687\n"
     ]
    },
    {
     "data": {
      "text/plain": [
       "homemad         44.257612\n",
       "til             31.713198\n",
       "wa              22.812710\n",
       "travel          19.501076\n",
       "relationship    16.887103\n",
       "ate             16.756193\n",
       "thi             16.586423\n",
       "boyfriend       16.389258\n",
       "year            16.310440\n",
       "friend          14.923926\n",
       "best            14.507155\n",
       "feel            13.486136\n",
       "girlfriend      13.417889\n",
       "know            12.923209\n",
       "need            12.759418\n",
       "kobe            11.801250\n",
       "like            11.498839\n",
       "advic           11.494596\n",
       "help            11.421027\n",
       "new             10.526103\n",
       "dtype: float64"
      ]
     },
     "execution_count": 100,
     "metadata": {},
     "output_type": "execute_result"
    }
   ],
   "source": [
    "# Let's look at the most frequently used words.\n",
    "cv = TfidfVectorizer(stop_words='english')\n",
    "cv.fit(X_train)\n",
    "X_train_cv = cv.transform(X_train)\n",
    "print(f\"TfidfVectorizer Total features = {len(cv.get_feature_names())}\")\n",
    "words = pd.DataFrame(X_train_cv.todense(), columns=cv.get_feature_names())\n",
    "words.sum().sort_values(ascending=False).head(20)"
   ]
  },
  {
   "cell_type": "code",
   "execution_count": 101,
   "metadata": {},
   "outputs": [
    {
     "data": {
      "image/png": "[encoded data removed]",
      "text/plain": [
       "<Figure size 432x288 with 1 Axes>"
      ]
     },
     "metadata": {
      "needs_background": "light"
     },
     "output_type": "display_data"
    }
   ],
   "source": [
    "# Plot the lengths of the words.\n",
    "lengths_of_words = [len(each) for each in words.columns]\n",
    "plt.hist(lengths_of_words)\n",
    "plt.xlabel(\"length of words\")\n",
    "plt.ylabel(\"frequency\")\n",
    "plt.title('Most of the words are 5-7 characters long');"
   ]
  },
  {
   "cell_type": "code",
   "execution_count": 102,
   "metadata": {},
   "outputs": [
    {
     "data": {
      "image/png": "[encoded data removed]",
      "text/plain": [
       "<Figure size 432x288 with 1 Axes>"
      ]
     },
     "metadata": {
      "needs_background": "light"
     },
     "output_type": "display_data"
    }
   ],
   "source": [
    "# Plot the lengths of the posts.\n",
    "lengths_of_posts = [len(each) for each in X]\n",
    "plt.hist(lengths_of_posts)\n",
    "plt.xlabel(\"length of the title of posts\")\n",
    "plt.ylabel(\"frequency\")\n",
    "plt.title('Most of the Title are 50ish characters long');"
   ]
  },
  {
   "cell_type": "code",
   "execution_count": 103,
   "metadata": {},
   "outputs": [
    {
     "data": {
      "image/png": "[encoded data removed]",
      "text/plain": [
       "<Figure size 432x288 with 1 Axes>"
      ]
     },
     "metadata": {
      "needs_background": "light"
     },
     "output_type": "display_data"
    }
   ],
   "source": [
    "\n",
    "text = 'Reddit NLP Text Classifier Sub-reddit Travel Food'\n",
    "\n",
    "# Create and generate a word cloud image:\n",
    "wordcloud = WordCloud().generate(text)\n",
    "\n",
    "# Display the generated image:\n",
    "plt.imshow(wordcloud, interpolation='bilinear')\n",
    "plt.axis(\"off\")\n",
    "plt.show()"
   ]
  },
  {
   "cell_type": "code",
   "execution_count": 104,
   "metadata": {},
   "outputs": [
    {
     "data": {
      "text/plain": [
       "82.92164976651152"
      ]
     },
     "execution_count": 104,
     "metadata": {},
     "output_type": "execute_result"
    }
   ],
   "source": [
    "np.sqrt(6876)"
   ]
  },
  {
   "cell_type": "markdown",
   "metadata": {},
   "source": [
    "##  Naive Bayes"
   ]
  },
  {
   "cell_type": "code",
   "execution_count": 105,
   "metadata": {},
   "outputs": [],
   "source": [
    "def evaluate_classifier(model,vectorizer,md,X_test,y_test):\n",
    "    y_pred = md.predict(X_test)\n",
    "    tn, fp, fn, tp = confusion_matrix(y_test,y_pred,labels=[0,1]).ravel()  \n",
    "    \n",
    "    cvs =np.round(cross_val_score(md, X_train, y_train, cv=3).mean(),2)\n",
    "    tr_sc =np.round(md.score(X_train,y_train),2)\n",
    "    te_sc = np.round(md.score(X_test,y_test),2)\n",
    "    sensitivity = np.round(((tp)/(tp+fn))*100,2)\n",
    "    specificity = np.round(((tn)/(tn+fp))*100,2)\n",
    "    print(f\"|{model}-{vectorizer}|{cvs}|{tr_sc}|{te_sc}|{tn}|{fp}|{fn}|{tp}|{sensitivity}%|{specificity}%\")\n",
    "    return y_pred\n",
    "    "
   ]
  },
  {
   "cell_type": "code",
   "execution_count": 106,
   "metadata": {},
   "outputs": [
    {
     "name": "stdout",
     "output_type": "stream",
     "text": [
      "|Model Type|cvs| training score|test score| tn |fp|fn|tp|senitivity|specificity\n",
      "|---|---|---|---|---|---|---|---|---|---|\n",
      "|Bernoilli-Count|0.85|0.87|0.86|105|1|0|92|100.0%|99.06%\n",
      "|Bernoilli-TFID|0.85|0.87|0.87|105|4|0|101|100.0%|96.33%\n",
      "|Multinomial-Count|0.78|0.81|0.77|116|1|18|100|84.75%|99.15%\n",
      "|Multinomial-TFID|0.77|0.8|0.77|119|1|18|96|84.21%|99.17%\n",
      "|knn-Count|0.75|0.86|0.83|96|6|6|97|94.17%|94.12%\n",
      "|knn-TFID|0.71|0.77|0.72|99|22|0|107|100.0%|81.82%\n",
      "|LogisticRegression-Count|0.84|0.87|0.85|98|0|0|90|100.0%|100.0%\n"
     ]
    },
    {
     "name": "stderr",
     "output_type": "stream",
     "text": [
      "/Users/mybiyani/opt/anaconda3/lib/python3.7/site-packages/sklearn/linear_model/logistic.py:469: FutureWarning: Default multi_class will be changed to 'auto' in 0.22. Specify the multi_class option to silence this warning.\n",
      "  \"this warning.\", FutureWarning)\n",
      "/Users/mybiyani/opt/anaconda3/lib/python3.7/site-packages/sklearn/linear_model/logistic.py:469: FutureWarning: Default multi_class will be changed to 'auto' in 0.22. Specify the multi_class option to silence this warning.\n",
      "  \"this warning.\", FutureWarning)\n",
      "/Users/mybiyani/opt/anaconda3/lib/python3.7/site-packages/sklearn/linear_model/logistic.py:469: FutureWarning: Default multi_class will be changed to 'auto' in 0.22. Specify the multi_class option to silence this warning.\n",
      "  \"this warning.\", FutureWarning)\n",
      "/Users/mybiyani/opt/anaconda3/lib/python3.7/site-packages/sklearn/linear_model/logistic.py:469: FutureWarning: Default multi_class will be changed to 'auto' in 0.22. Specify the multi_class option to silence this warning.\n",
      "  \"this warning.\", FutureWarning)\n",
      "/Users/mybiyani/opt/anaconda3/lib/python3.7/site-packages/sklearn/linear_model/logistic.py:469: FutureWarning: Default multi_class will be changed to 'auto' in 0.22. Specify the multi_class option to silence this warning.\n",
      "  \"this warning.\", FutureWarning)\n",
      "/Users/mybiyani/opt/anaconda3/lib/python3.7/site-packages/sklearn/linear_model/logistic.py:469: FutureWarning: Default multi_class will be changed to 'auto' in 0.22. Specify the multi_class option to silence this warning.\n",
      "  \"this warning.\", FutureWarning)\n",
      "/Users/mybiyani/opt/anaconda3/lib/python3.7/site-packages/sklearn/linear_model/logistic.py:469: FutureWarning: Default multi_class will be changed to 'auto' in 0.22. Specify the multi_class option to silence this warning.\n",
      "  \"this warning.\", FutureWarning)\n",
      "/Users/mybiyani/opt/anaconda3/lib/python3.7/site-packages/sklearn/linear_model/logistic.py:469: FutureWarning: Default multi_class will be changed to 'auto' in 0.22. Specify the multi_class option to silence this warning.\n",
      "  \"this warning.\", FutureWarning)\n"
     ]
    },
    {
     "name": "stdout",
     "output_type": "stream",
     "text": [
      "|LogisticRegression-TFID|0.85|0.87|0.83|100|3|0|96|100.0%|97.09%\n",
      "|SVM-Count|0.84|0.88|0.82|88|6|0|96|100.0%|93.62%\n",
      "|SVM-TFID|0.84|0.9|0.84|100|3|1|96|98.97%|97.09%\n"
     ]
    },
    {
     "data": {
      "text/plain": [
       "array([1, 0, 2, 2, 3, 1, 3, 3, 0, 0, 0, 3, 1, 3, 2, 3, 0, 3, 3, 3, 0, 2,\n",
       "       0, 2, 2, 0, 1, 2, 2, 1, 3, 3, 1, 1, 2, 1, 0, 2, 2, 3, 1, 3, 3, 3,\n",
       "       3, 3, 1, 3, 3, 0, 0, 1, 3, 1, 3, 0, 0, 3, 1, 0, 2, 2, 1, 2, 0, 3,\n",
       "       3, 3, 3, 1, 3, 1, 0, 1, 3, 0, 3, 3, 0, 3, 3, 1, 0, 0, 1, 3, 2, 2,\n",
       "       0, 3, 0, 2, 0, 0, 3, 3, 3, 0, 1, 1, 2, 3, 0, 2, 3, 1, 2, 1, 2, 3,\n",
       "       3, 0, 3, 1, 2, 1, 2, 0, 2, 3, 1, 3, 3, 3, 1, 1, 3, 0, 2, 1, 1, 1,\n",
       "       2, 3, 2, 3, 1, 2, 1, 1, 0, 2, 2, 3, 0, 0, 3, 0, 0, 1, 3, 3, 3, 0,\n",
       "       1, 2, 3, 0, 2, 0, 2, 0, 3, 2, 2, 1, 1, 3, 3, 3, 1, 3, 1, 2, 1, 3,\n",
       "       1, 3, 0, 1, 3, 1, 1, 1, 3, 3, 2, 2, 3, 3, 3, 3, 1, 0, 3, 2, 0, 0,\n",
       "       3, 0, 2, 3, 0, 1, 3, 2, 0, 3, 3, 3, 1, 0, 0, 3, 2, 1, 3, 1, 0, 2,\n",
       "       2, 2, 3, 1, 2, 0, 3, 2, 0, 3, 2, 2, 0, 3, 1, 3, 3, 0, 2, 1, 0, 0,\n",
       "       1, 0, 1, 0, 1, 1, 3, 3, 3, 3, 2, 3, 0, 3, 3, 3, 3, 3, 3, 0, 1, 3,\n",
       "       3, 2, 2, 3, 3, 3, 1, 1, 2, 3, 3, 3, 0, 1, 3, 3, 1, 3, 3, 2, 0, 3,\n",
       "       1, 0, 0, 1, 3, 2, 3, 0, 3, 3, 2, 1, 3, 1, 0, 3, 1, 3, 0, 2, 3, 2,\n",
       "       3, 0, 2, 3, 2, 3, 2, 0, 2, 1, 2, 3, 3, 3, 3, 3, 3, 0, 2, 0, 1, 3,\n",
       "       0, 3, 1, 1, 1, 3, 2, 2, 3, 3, 1, 2, 1, 2, 3, 3, 3, 3, 3, 2, 2, 2,\n",
       "       2, 0, 0, 3, 3, 2, 0, 3, 1, 2, 1, 0, 3, 1, 1, 1, 2, 3, 1, 2, 0, 0,\n",
       "       3, 2, 1, 3, 3, 3, 2, 0, 0, 1, 3, 0, 3, 3, 2, 3, 3, 0, 2, 3, 0, 2,\n",
       "       1, 2, 2, 1, 0, 2, 1, 3, 3, 1, 0, 2, 2, 3, 2, 0, 1, 3, 1, 2, 2, 3,\n",
       "       1, 2, 2, 3, 2, 2, 2, 0, 1, 1, 2, 0, 3, 3, 0, 1, 0, 3, 0, 3, 1, 3,\n",
       "       3, 3, 0, 1, 1, 1, 2, 1, 3, 2, 1, 3, 2, 0, 0, 1, 1, 0, 2, 0, 2, 0,\n",
       "       1, 2, 3, 0, 3, 2, 3, 2, 1, 0, 2, 2, 0, 0, 2, 3, 1, 1, 2, 2, 1, 0,\n",
       "       3, 0, 3, 0, 1, 1, 2, 2, 0, 3, 1, 1, 2, 2, 1, 3])"
      ]
     },
     "execution_count": 106,
     "metadata": {},
     "output_type": "execute_result"
    }
   ],
   "source": [
    "def classify_posts(model ='Bernoilli',vectorizer='Count'):\n",
    "    X_train,X_test,y_train,y_test=train_test_split(X,y,stratify=y)\n",
    "    \n",
    "    v= TfidfVectorizer(stop_words='english',max_features =100) if(vectorizer =='TFID') else CountVectorizer(stop_words='english',max_features =100)\n",
    "    pipe = Pipeline([ \n",
    "                     ('vec' ,v ) ,\n",
    "                      ('mnb', BernoulliNB())])\n",
    "    \n",
    "    if(model =='Multinomial'):\n",
    "        pipe = Pipeline([ \n",
    "                     ('vec' , v) , \n",
    "                      ('mnb', MultinomialNB())])\n",
    "        \n",
    "    elif(model ==\"LogisticRegression\"):\n",
    "        pipe =Pipeline([\n",
    "            ('vec',v),\n",
    "            ('lr',LogisticRegression(solver='liblinear'))\n",
    "        ])\n",
    "        \n",
    "    elif(model =='knn'):\n",
    "        pipe= Pipeline([\n",
    "            ('vec',v),\n",
    "             ('knn',KNeighborsClassifier())\n",
    "        ])\n",
    "    elif(model =='SVM'):\n",
    "        pipe= Pipeline([\n",
    "            ('vec',v),\n",
    "            ('svc',SVC(gamma=\"scale\"))\n",
    "        ])\n",
    "    \n",
    "    pipe.fit(X_train,y_train)\n",
    "#    print(len(v.get_feature_names()))\n",
    "    y_pred = evaluate_classifier(model,vectorizer,pipe,X_test,y_test)\n",
    "    return y_pred\n",
    "    \n",
    "print(\"|Model Type|cvs| training score|test score| tn |fp|fn|tp|senitivity|specificity\")\n",
    "print(\"|---|---|---|---|---|---|---|---|---|---|\")\n",
    "\n",
    "classify_posts(\"Bernoilli\",'Count')\n",
    "classify_posts(\"Bernoilli\",'TFID')\n",
    "\n",
    "classify_posts(\"Multinomial\",'Count')\n",
    "classify_posts(\"Multinomial\",'TFID')\n",
    "\n",
    "classify_posts('knn','Count')\n",
    "classify_posts('knn','TFID')\n",
    "\n",
    "classify_posts(\"LogisticRegression\",'Count')\n",
    "classify_posts(\"LogisticRegression\",'TFID')\n",
    "\n",
    "classify_posts('SVM','Count')\n",
    "classify_posts('SVM','TFID')"
   ]
  },
  {
   "cell_type": "markdown",
   "metadata": {},
   "source": [
    "|Model Type|cvs| training score|test score| tn |fp|fn|tp|senitivity|specificity\n",
    "|---|---|---|---|---|---|---|---|---|---|\n",
    "|Bernoilli-Count|0.92|0.92|0.92|10526|1974|98|12402|99.22%|84.21%\n",
    "|Bernoilli-TFID|0.92|0.92|0.92|10597|1903|100|12400|99.2%|84.78%\n",
    "|Multinomial-Count|0.81|0.81|0.81|11884|616|4133|8367|66.94%|95.07%\n",
    "|Multinomial-TFID|0.81|0.81|0.81|11898|602|4073|8427|67.42%|95.18%\n",
    "|LogisticRegression-Count|0.92|0.92|0.92|10668|1832|113|12387|99.1%|85.34%\n",
    "|LogisticRegression-TFID|0.92|0.92|0.92|10756|1744|131|12369|98.95%|86.05%"
   ]
  },
  {
   "cell_type": "code",
   "execution_count": 107,
   "metadata": {},
   "outputs": [
    {
     "name": "stdout",
     "output_type": "stream",
     "text": [
      "|Multinomial-TFID|0.77|0.79|0.76|115|6|23|92|80.0%|95.04%\n"
     ]
    }
   ],
   "source": [
    "df_subreddit['subreddit_pred'] =pd.Series(classify_posts(\"Multinomial\",'TFID'))"
   ]
  },
  {
   "cell_type": "code",
   "execution_count": 120,
   "metadata": {},
   "outputs": [
    {
     "data": {
      "text/plain": [
       "array([[196, 109, 130,  65],\n",
       "       [196, 109, 130,  65],\n",
       "       [196, 109, 130,  65],\n",
       "       [196, 109, 130,  65]])"
      ]
     },
     "execution_count": 120,
     "metadata": {},
     "output_type": "execute_result"
    }
   ],
   "source": [
    "cm= confusion_matrix(df_subreddit['subreddit_num'],df_subreddit['subreddit_pred'])"
   ]
  },
  {
   "cell_type": "code",
   "execution_count": 94,
   "metadata": {},
   "outputs": [
    {
     "name": "stdout",
     "output_type": "stream",
     "text": [
      "|Model Type|cvs| training score|test score| tn |fp|fn|tp|senitivity|specificity\n",
      "|---|---|---|---|---|---|---|---|---|---|\n",
      "{'vec__max_features': 1000, 'vec__ngram_range': (1, 1), 'vec__stop_words': frozenset({'four', 'detail', 'de', 'thereupon', 'too', 'sixty', 'further', 'we', 'when', 'however', 'except', 'indeed', 'am', 'any', 'put', 'along', 'several', 'thence', 'co', 'where', 'hereby', 'etc', 'wherein', 'see', 'together', 'become', 'already', 'yet', 'what', 'above', 'found', 'rather', 'least', 'move', 'top', 'elsewhere', 'nor', 'down', 'ie', 'do', 'than', 'forty', 'the', 'themselves', 'even', 'somehow', 'i', 'sincere', 'himself', 'each', 'of', 'fire', 'enough', 'afterwards', 'everything', 'is', 'upon', 'was', 'would', 'everyone', 'toward', 'due', 'whereby', 'latter', 'alone', 'amoungst', 'hereafter', 'eight', 'whether', 'twenty', 'should', 'again', 'often', 'been', 'him', 'less', 'empty', 'hundred', 'they', 'after', 'whereas', 'had', 'has', 'via', 'twelve', 'none', 'now', 'must', 'all', 'without', 'about', 'thereafter', 'seeming', 'there', 'many', 'thru', 'were', 'system', 'take', 'could', 'his', 'three', 'beforehand', 'per', 'most', 'ourselves', 'myself', 'be', 'whose', 'which', 'serious', 'becoming', 'my', 'under', 'as', 'cry', 'whither', 'only', 'few', 'though', 'on', 'their', 'below', 'mill', 'fill', 'these', 'something', 'anyone', 'ever', 'amount', 'seems', 'here', 'inc', 'across', 'former', 'anyway', 'once', 'such', 'every', 'next', 'itself', 'an', 'thereby', 'until', 'ours', 'made', 'yourself', 'off', 'those', 'me', 'if', 'go', 'have', 'nobody', 'becomes', 'much', 'give', 'for', 'fifty', 'noone', 'before', 'not', 'find', 'third', 'else', 'hers', 'one', 'cant', 'herein', 'whence', 'interest', 'although', 'thick', 'throughout', 'but', 'eg', 'thus', 'behind', 'through', 'side', 'namely', 'hereupon', 'them', 'same', 'or', 'from', 'up', 'she', 'nevertheless', 'two', 'who', 'because', 'in', 'couldnt', 'other', 'so', 'sometimes', 'con', 'amongst', 'whoever', 'sometime', 'last', 'never', 'everywhere', 'our', 'someone', 'hence', 'anyhow', 'eleven', 'mine', 'among', 'anywhere', 'around', 'to', 'almost', 'another', 'yourselves', 'back', 'well', 'then', 'ten', 'onto', 'being', 'please', 'bill', 'seemed', 'show', 'beside', 'towards', 'beyond', 'and', 'formerly', 'anything', 'your', 'against', 'also', 'by', 'front', 'a', 'name', 'its', 'full', 'keep', 'out', 'it', 'more', 'within', 'therefore', 'into', 'can', 'moreover', 'mostly', 'are', 'that', 'nine', 'neither', 'will', 'whereupon', 'somewhere', 'nothing', 'either', 'he', 'whereafter', 'latterly', 'therein', 'no', 'meanwhile', 'both', 'since', 'cannot', 'besides', 'while', 'her', 'over', 'some', 'during', 'how', 'whenever', 'hasnt', 'five', 'un', 'wherever', 'nowhere', 'very', 'perhaps', 'seem', 'thin', 'this', 'whom', 'otherwise', 'others', 'why', 'whole', 'may', 'first', 'yours', 're', 'at', 'still', 'became', 'call', 'you', 'between', 'herself', 'describe', 'ltd', 'get', 'always', 'might', 'own', 'whatever', 'six', 'with', 'done', 'fifteen', 'us', 'bottom', 'part'})}\n",
      "|GridSearchCV(cv=5, error_score='raise-deprecating',\n",
      "             estimator=Pipeline(memory=None,\n",
      "                                steps=[('vec',\n",
      "                                        CountVectorizer(analyzer='word',\n",
      "                                                        binary=False,\n",
      "                                                        decode_error='strict',\n",
      "                                                        dtype=<class 'numpy.int64'>,\n",
      "                                                        encoding='utf-8',\n",
      "                                                        input='content',\n",
      "                                                        lowercase=True,\n",
      "                                                        max_df=1.0,\n",
      "                                                        max_features=None,\n",
      "                                                        min_df=1,\n",
      "                                                        ngram_range=(1, 1),\n",
      "                                                        preprocessor=None,\n",
      "                                                        stop_words=None,\n",
      "                                                        strip_accents=None,\n",
      "                                                        toke...\n",
      "                         'vec__stop_words': [frozenset({'a', 'about', 'above',\n",
      "                                                        'across', 'after',\n",
      "                                                        'afterwards', 'again',\n",
      "                                                        'against', 'all',\n",
      "                                                        'almost', 'alone',\n",
      "                                                        'along', 'already',\n",
      "                                                        'also', 'although',\n",
      "                                                        'always', 'am', 'among',\n",
      "                                                        'amongst', 'amoungst',\n",
      "                                                        'amount', 'an', 'and',\n",
      "                                                        'another', 'any',\n",
      "                                                        'anyhow', 'anyone',\n",
      "                                                        'anything', 'anyway',\n",
      "                                                        'anywhere', ...}),\n",
      "                                             None]},\n",
      "             pre_dispatch='2*n_jobs', refit=True, return_train_score=False,\n",
      "             scoring=None, verbose=0)-Count|0.87|0.92|0.89|120|2|4|112|96.55%|98.36%\n",
      "{'vec__max_features': 1000, 'vec__ngram_range': (1, 1), 'vec__stop_words': frozenset({'four', 'detail', 'de', 'thereupon', 'too', 'sixty', 'further', 'we', 'when', 'however', 'except', 'indeed', 'am', 'any', 'put', 'along', 'several', 'thence', 'co', 'where', 'hereby', 'etc', 'wherein', 'see', 'together', 'become', 'already', 'yet', 'what', 'above', 'found', 'rather', 'least', 'move', 'top', 'elsewhere', 'nor', 'down', 'ie', 'do', 'than', 'forty', 'the', 'themselves', 'even', 'somehow', 'i', 'sincere', 'himself', 'each', 'of', 'fire', 'enough', 'afterwards', 'everything', 'is', 'upon', 'was', 'would', 'everyone', 'toward', 'due', 'whereby', 'latter', 'alone', 'amoungst', 'hereafter', 'eight', 'whether', 'twenty', 'should', 'again', 'often', 'been', 'him', 'less', 'empty', 'hundred', 'they', 'after', 'whereas', 'had', 'has', 'via', 'twelve', 'none', 'now', 'must', 'all', 'without', 'about', 'thereafter', 'seeming', 'there', 'many', 'thru', 'were', 'system', 'take', 'could', 'his', 'three', 'beforehand', 'per', 'most', 'ourselves', 'myself', 'be', 'whose', 'which', 'serious', 'becoming', 'my', 'under', 'as', 'cry', 'whither', 'only', 'few', 'though', 'on', 'their', 'below', 'mill', 'fill', 'these', 'something', 'anyone', 'ever', 'amount', 'seems', 'here', 'inc', 'across', 'former', 'anyway', 'once', 'such', 'every', 'next', 'itself', 'an', 'thereby', 'until', 'ours', 'made', 'yourself', 'off', 'those', 'me', 'if', 'go', 'have', 'nobody', 'becomes', 'much', 'give', 'for', 'fifty', 'noone', 'before', 'not', 'find', 'third', 'else', 'hers', 'one', 'cant', 'herein', 'whence', 'interest', 'although', 'thick', 'throughout', 'but', 'eg', 'thus', 'behind', 'through', 'side', 'namely', 'hereupon', 'them', 'same', 'or', 'from', 'up', 'she', 'nevertheless', 'two', 'who', 'because', 'in', 'couldnt', 'other', 'so', 'sometimes', 'con', 'amongst', 'whoever', 'sometime', 'last', 'never', 'everywhere', 'our', 'someone', 'hence', 'anyhow', 'eleven', 'mine', 'among', 'anywhere', 'around', 'to', 'almost', 'another', 'yourselves', 'back', 'well', 'then', 'ten', 'onto', 'being', 'please', 'bill', 'seemed', 'show', 'beside', 'towards', 'beyond', 'and', 'formerly', 'anything', 'your', 'against', 'also', 'by', 'front', 'a', 'name', 'its', 'full', 'keep', 'out', 'it', 'more', 'within', 'therefore', 'into', 'can', 'moreover', 'mostly', 'are', 'that', 'nine', 'neither', 'will', 'whereupon', 'somewhere', 'nothing', 'either', 'he', 'whereafter', 'latterly', 'therein', 'no', 'meanwhile', 'both', 'since', 'cannot', 'besides', 'while', 'her', 'over', 'some', 'during', 'how', 'whenever', 'hasnt', 'five', 'un', 'wherever', 'nowhere', 'very', 'perhaps', 'seem', 'thin', 'this', 'whom', 'otherwise', 'others', 'why', 'whole', 'may', 'first', 'yours', 're', 'at', 'still', 'became', 'call', 'you', 'between', 'herself', 'describe', 'ltd', 'get', 'always', 'might', 'own', 'whatever', 'six', 'with', 'done', 'fifteen', 'us', 'bottom', 'part'})}\n",
      "|GridSearchCV(cv=5, error_score='raise-deprecating',\n",
      "             estimator=Pipeline(memory=None,\n",
      "                                steps=[('vec',\n",
      "                                        TfidfVectorizer(analyzer='word',\n",
      "                                                        binary=False,\n",
      "                                                        decode_error='strict',\n",
      "                                                        dtype=<class 'numpy.float64'>,\n",
      "                                                        encoding='utf-8',\n",
      "                                                        input='content',\n",
      "                                                        lowercase=True,\n",
      "                                                        max_df=1.0,\n",
      "                                                        max_features=None,\n",
      "                                                        min_df=1,\n",
      "                                                        ngram_range=(1, 1),\n",
      "                                                        norm='l2',\n",
      "                                                        preprocessor=None,\n",
      "                                                        smooth_idf=True,\n",
      "                                                        stop_words=...\n",
      "                         'vec__stop_words': [frozenset({'a', 'about', 'above',\n",
      "                                                        'across', 'after',\n",
      "                                                        'afterwards', 'again',\n",
      "                                                        'against', 'all',\n",
      "                                                        'almost', 'alone',\n",
      "                                                        'along', 'already',\n",
      "                                                        'also', 'although',\n",
      "                                                        'always', 'am', 'among',\n",
      "                                                        'amongst', 'amoungst',\n",
      "                                                        'amount', 'an', 'and',\n",
      "                                                        'another', 'any',\n",
      "                                                        'anyhow', 'anyone',\n",
      "                                                        'anything', 'anyway',\n",
      "                                                        'anywhere', ...}),\n",
      "                                             None]},\n",
      "             pre_dispatch='2*n_jobs', refit=True, return_train_score=False,\n",
      "             scoring=None, verbose=0)-TFID|0.87|0.92|0.89|114|4|3|116|97.48%|96.61%\n"
     ]
    },
    {
     "name": "stdout",
     "output_type": "stream",
     "text": [
      "{'vec__max_features': 3000, 'vec__ngram_range': (1, 1), 'vec__stop_words': frozenset({'four', 'detail', 'de', 'thereupon', 'too', 'sixty', 'further', 'we', 'when', 'however', 'except', 'indeed', 'am', 'any', 'put', 'along', 'several', 'thence', 'co', 'where', 'hereby', 'etc', 'wherein', 'see', 'together', 'become', 'already', 'yet', 'what', 'above', 'found', 'rather', 'least', 'move', 'top', 'elsewhere', 'nor', 'down', 'ie', 'do', 'than', 'forty', 'the', 'themselves', 'even', 'somehow', 'i', 'sincere', 'himself', 'each', 'of', 'fire', 'enough', 'afterwards', 'everything', 'is', 'upon', 'was', 'would', 'everyone', 'toward', 'due', 'whereby', 'latter', 'alone', 'amoungst', 'hereafter', 'eight', 'whether', 'twenty', 'should', 'again', 'often', 'been', 'him', 'less', 'empty', 'hundred', 'they', 'after', 'whereas', 'had', 'has', 'via', 'twelve', 'none', 'now', 'must', 'all', 'without', 'about', 'thereafter', 'seeming', 'there', 'many', 'thru', 'were', 'system', 'take', 'could', 'his', 'three', 'beforehand', 'per', 'most', 'ourselves', 'myself', 'be', 'whose', 'which', 'serious', 'becoming', 'my', 'under', 'as', 'cry', 'whither', 'only', 'few', 'though', 'on', 'their', 'below', 'mill', 'fill', 'these', 'something', 'anyone', 'ever', 'amount', 'seems', 'here', 'inc', 'across', 'former', 'anyway', 'once', 'such', 'every', 'next', 'itself', 'an', 'thereby', 'until', 'ours', 'made', 'yourself', 'off', 'those', 'me', 'if', 'go', 'have', 'nobody', 'becomes', 'much', 'give', 'for', 'fifty', 'noone', 'before', 'not', 'find', 'third', 'else', 'hers', 'one', 'cant', 'herein', 'whence', 'interest', 'although', 'thick', 'throughout', 'but', 'eg', 'thus', 'behind', 'through', 'side', 'namely', 'hereupon', 'them', 'same', 'or', 'from', 'up', 'she', 'nevertheless', 'two', 'who', 'because', 'in', 'couldnt', 'other', 'so', 'sometimes', 'con', 'amongst', 'whoever', 'sometime', 'last', 'never', 'everywhere', 'our', 'someone', 'hence', 'anyhow', 'eleven', 'mine', 'among', 'anywhere', 'around', 'to', 'almost', 'another', 'yourselves', 'back', 'well', 'then', 'ten', 'onto', 'being', 'please', 'bill', 'seemed', 'show', 'beside', 'towards', 'beyond', 'and', 'formerly', 'anything', 'your', 'against', 'also', 'by', 'front', 'a', 'name', 'its', 'full', 'keep', 'out', 'it', 'more', 'within', 'therefore', 'into', 'can', 'moreover', 'mostly', 'are', 'that', 'nine', 'neither', 'will', 'whereupon', 'somewhere', 'nothing', 'either', 'he', 'whereafter', 'latterly', 'therein', 'no', 'meanwhile', 'both', 'since', 'cannot', 'besides', 'while', 'her', 'over', 'some', 'during', 'how', 'whenever', 'hasnt', 'five', 'un', 'wherever', 'nowhere', 'very', 'perhaps', 'seem', 'thin', 'this', 'whom', 'otherwise', 'others', 'why', 'whole', 'may', 'first', 'yours', 're', 'at', 'still', 'became', 'call', 'you', 'between', 'herself', 'describe', 'ltd', 'get', 'always', 'might', 'own', 'whatever', 'six', 'with', 'done', 'fifteen', 'us', 'bottom', 'part'})}\n",
      "|GridSearchCV(cv=5, error_score='raise-deprecating',\n",
      "             estimator=Pipeline(memory=None,\n",
      "                                steps=[('vec',\n",
      "                                        CountVectorizer(analyzer='word',\n",
      "                                                        binary=False,\n",
      "                                                        decode_error='strict',\n",
      "                                                        dtype=<class 'numpy.int64'>,\n",
      "                                                        encoding='utf-8',\n",
      "                                                        input='content',\n",
      "                                                        lowercase=True,\n",
      "                                                        max_df=1.0,\n",
      "                                                        max_features=None,\n",
      "                                                        min_df=1,\n",
      "                                                        ngram_range=(1, 1),\n",
      "                                                        preprocessor=None,\n",
      "                                                        stop_words=None,\n",
      "                                                        strip_accents=None,\n",
      "                                                        toke...\n",
      "                         'vec__stop_words': [frozenset({'a', 'about', 'above',\n",
      "                                                        'across', 'after',\n",
      "                                                        'afterwards', 'again',\n",
      "                                                        'against', 'all',\n",
      "                                                        'almost', 'alone',\n",
      "                                                        'along', 'already',\n",
      "                                                        'also', 'although',\n",
      "                                                        'always', 'am', 'among',\n",
      "                                                        'amongst', 'amoungst',\n",
      "                                                        'amount', 'an', 'and',\n",
      "                                                        'another', 'any',\n",
      "                                                        'anyhow', 'anyone',\n",
      "                                                        'anything', 'anyway',\n",
      "                                                        'anywhere', ...}),\n",
      "                                             None]},\n",
      "             pre_dispatch='2*n_jobs', refit=True, return_train_score=False,\n",
      "             scoring=None, verbose=0)-Count|0.88|0.95|0.91|115|5|0|121|100.0%|95.83%\n",
      "{'vec__max_features': 2000, 'vec__ngram_range': (1, 1), 'vec__stop_words': frozenset({'four', 'detail', 'de', 'thereupon', 'too', 'sixty', 'further', 'we', 'when', 'however', 'except', 'indeed', 'am', 'any', 'put', 'along', 'several', 'thence', 'co', 'where', 'hereby', 'etc', 'wherein', 'see', 'together', 'become', 'already', 'yet', 'what', 'above', 'found', 'rather', 'least', 'move', 'top', 'elsewhere', 'nor', 'down', 'ie', 'do', 'than', 'forty', 'the', 'themselves', 'even', 'somehow', 'i', 'sincere', 'himself', 'each', 'of', 'fire', 'enough', 'afterwards', 'everything', 'is', 'upon', 'was', 'would', 'everyone', 'toward', 'due', 'whereby', 'latter', 'alone', 'amoungst', 'hereafter', 'eight', 'whether', 'twenty', 'should', 'again', 'often', 'been', 'him', 'less', 'empty', 'hundred', 'they', 'after', 'whereas', 'had', 'has', 'via', 'twelve', 'none', 'now', 'must', 'all', 'without', 'about', 'thereafter', 'seeming', 'there', 'many', 'thru', 'were', 'system', 'take', 'could', 'his', 'three', 'beforehand', 'per', 'most', 'ourselves', 'myself', 'be', 'whose', 'which', 'serious', 'becoming', 'my', 'under', 'as', 'cry', 'whither', 'only', 'few', 'though', 'on', 'their', 'below', 'mill', 'fill', 'these', 'something', 'anyone', 'ever', 'amount', 'seems', 'here', 'inc', 'across', 'former', 'anyway', 'once', 'such', 'every', 'next', 'itself', 'an', 'thereby', 'until', 'ours', 'made', 'yourself', 'off', 'those', 'me', 'if', 'go', 'have', 'nobody', 'becomes', 'much', 'give', 'for', 'fifty', 'noone', 'before', 'not', 'find', 'third', 'else', 'hers', 'one', 'cant', 'herein', 'whence', 'interest', 'although', 'thick', 'throughout', 'but', 'eg', 'thus', 'behind', 'through', 'side', 'namely', 'hereupon', 'them', 'same', 'or', 'from', 'up', 'she', 'nevertheless', 'two', 'who', 'because', 'in', 'couldnt', 'other', 'so', 'sometimes', 'con', 'amongst', 'whoever', 'sometime', 'last', 'never', 'everywhere', 'our', 'someone', 'hence', 'anyhow', 'eleven', 'mine', 'among', 'anywhere', 'around', 'to', 'almost', 'another', 'yourselves', 'back', 'well', 'then', 'ten', 'onto', 'being', 'please', 'bill', 'seemed', 'show', 'beside', 'towards', 'beyond', 'and', 'formerly', 'anything', 'your', 'against', 'also', 'by', 'front', 'a', 'name', 'its', 'full', 'keep', 'out', 'it', 'more', 'within', 'therefore', 'into', 'can', 'moreover', 'mostly', 'are', 'that', 'nine', 'neither', 'will', 'whereupon', 'somewhere', 'nothing', 'either', 'he', 'whereafter', 'latterly', 'therein', 'no', 'meanwhile', 'both', 'since', 'cannot', 'besides', 'while', 'her', 'over', 'some', 'during', 'how', 'whenever', 'hasnt', 'five', 'un', 'wherever', 'nowhere', 'very', 'perhaps', 'seem', 'thin', 'this', 'whom', 'otherwise', 'others', 'why', 'whole', 'may', 'first', 'yours', 're', 'at', 'still', 'became', 'call', 'you', 'between', 'herself', 'describe', 'ltd', 'get', 'always', 'might', 'own', 'whatever', 'six', 'with', 'done', 'fifteen', 'us', 'bottom', 'part'})}\n",
      "|GridSearchCV(cv=5, error_score='raise-deprecating',\n",
      "             estimator=Pipeline(memory=None,\n",
      "                                steps=[('vec',\n",
      "                                        TfidfVectorizer(analyzer='word',\n",
      "                                                        binary=False,\n",
      "                                                        decode_error='strict',\n",
      "                                                        dtype=<class 'numpy.float64'>,\n",
      "                                                        encoding='utf-8',\n",
      "                                                        input='content',\n",
      "                                                        lowercase=True,\n",
      "                                                        max_df=1.0,\n",
      "                                                        max_features=None,\n",
      "                                                        min_df=1,\n",
      "                                                        ngram_range=(1, 1),\n",
      "                                                        norm='l2',\n",
      "                                                        preprocessor=None,\n",
      "                                                        smooth_idf=True,\n",
      "                                                        stop_words=...\n",
      "                         'vec__stop_words': [frozenset({'a', 'about', 'above',\n",
      "                                                        'across', 'after',\n",
      "                                                        'afterwards', 'again',\n",
      "                                                        'against', 'all',\n",
      "                                                        'almost', 'alone',\n",
      "                                                        'along', 'already',\n",
      "                                                        'also', 'although',\n",
      "                                                        'always', 'am', 'among',\n",
      "                                                        'amongst', 'amoungst',\n",
      "                                                        'amount', 'an', 'and',\n",
      "                                                        'another', 'any',\n",
      "                                                        'anyhow', 'anyone',\n",
      "                                                        'anything', 'anyway',\n",
      "                                                        'anywhere', ...}),\n",
      "                                             None]},\n",
      "             pre_dispatch='2*n_jobs', refit=True, return_train_score=False,\n",
      "             scoring=None, verbose=0)-TFID|0.88|0.94|0.87|111|8|0|120|100.0%|93.28%\n"
     ]
    }
   ],
   "source": [
    "def classify_posts_tune(model ='Bernoilli',vectorizer='Count'):\n",
    "    X_train,X_test,y_train,y_test=train_test_split(X,y,stratify=y)\n",
    "    \n",
    "    v= TfidfVectorizer() if(vectorizer =='TFID') else CountVectorizer()\n",
    "    pipe = Pipeline([ \n",
    "                     ('vec' ,v ) ,\n",
    "                      ('mnb', BernoulliNB())])\n",
    "    \n",
    "    if(model =='Multinomial'):\n",
    "        pipe = Pipeline([ \n",
    "                     ('vec' , v) , \n",
    "                      ('mnb', MultinomialNB())])\n",
    "        \n",
    "\n",
    "    \n",
    "    pipe.fit(X_train,y_train)\n",
    "    pipe_params = {\n",
    "    'vec__max_features': [100,1000,2000,3000,4000,5000,6000],\n",
    "    'vec__stop_words' :[stop_words.ENGLISH_STOP_WORDS,None],\n",
    "    'vec__ngram_range': [(1,1), (1,2)]\n",
    "     }\n",
    "    gs =GridSearchCV(pipe,pipe_params, cv=5)\n",
    "    gs.fit(X_train,y_train)\n",
    "    print( gs.best_params_)\n",
    "\n",
    "    evaluate_classifier(gs,vectorizer,pipe,X_test,y_test)\n",
    "    \n",
    "#----------------------------------------------------------------------------------    \n",
    "print(\"|Model Type|cvs| training score|test score| tn |fp|fn|tp|senitivity|specificity\")\n",
    "print(\"|---|---|---|---|---|---|---|---|---|---|\")\n",
    "\n",
    "classify_posts_tune(\"Bernoilli\",'Count')\n",
    "classify_posts_tune(\"Bernoilli\",'TFID')\n",
    "\n",
    "classify_posts_tune(\"Multinomial\",'Count')\n",
    "classify_posts_tune(\"Multinomial\",'TFID')\n"
   ]
  },
  {
   "cell_type": "markdown",
   "metadata": {},
   "source": [
    "#### 1. Results summary. - Categories - Travel and Food"
   ]
  },
  {
   "cell_type": "markdown",
   "metadata": {},
   "source": [
    "|Model Type|cvs| training score|test score| tn |fp|fn|tp|senitivity|specificity\n",
    "|---|---|---|---|---|---|---|---|---|---|\n",
    "|Bernoilli-Count|0.95|0.97|0.96|1189|61|30|1220|97.6%|95.12%\n",
    "|Bernoilli-TFID|0.95|0.97|0.96|1181|69|37|1213|97.04%|94.48%\n",
    "|Multinomial-Count|0.96|0.97|0.96|1178|72|31|1219|97.52%|94.24%\n",
    "|Multinomial-TFID|0.96|0.98|0.96|1196|54|41|1209|96.72%|95.68%\n",
    "|knn-Count|0.81|0.89|0.83|1172|78|346|904|72.32%|93.76%\n",
    "|knn-TFID|0.61|0.76|0.66|985|265|589|661|52.88%|78.8%\n",
    "|LogisticRegression-Count|0.95|0.98|0.96|1163|87|15|1235|98.8%|93.04%\n",
    "|LogisticRegression-TFID|0.95|0.97|0.96|1163|87|11|1239|99.12%|93.04%\n",
    "|SVM-Count|0.94|0.97|0.94|1115|135|5|1245|99.6%|89.2%\n",
    "|SVM-TFID|0.96|0.99|0.97|1175|75|6|1244|99.52%|94.0%"
   ]
  },
  {
   "cell_type": "code",
   "execution_count": 95,
   "metadata": {},
   "outputs": [],
   "source": [
    "### Results  2  with 50000 posts for each rub-reddit"
   ]
  },
  {
   "cell_type": "markdown",
   "metadata": {},
   "source": [
    "|Model Type|cvs| training score|test score| tn |fp|fn|tp|senitivity|specificity\n",
    "|---|---|---|---|---|---|---|---|---|---|\n",
    "|Bernoilli-Count|0.92|0.92|0.92|10572|1928|102|12398|99.18%|84.58%\n",
    "|Bernoilli-TFID|0.92|0.92|0.92|10589|1911|114|12386|99.09%|84.71%\n",
    "|Multinomial-Count|0.81|0.81|0.81|11917|583|4113|8387|67.1%|95.34%\n",
    "|Multinomial-TFID|0.81|0.81|0.81|11887|613|4165|8335|66.68%|95.1%\n",
    "|LogisticRegression-Count|0.92|0.92|0.93|10751|1749|118|12382|99.06%|86.01%\n",
    "|LogisticRegression-TFID|0.92|0.92|0.93|10806|1694|135|12365|98.92%|86.45%\n",
    "|SVM-Count|0.92|0.93|0.92|10753|1747|173|12327|98.62%|86.02%\n",
    "|SVM-TFID|0.92|0.93|0.92|10772|1728|151|12349|98.79%|86.18%"
   ]
  },
  {
   "cell_type": "code",
   "execution_count": 96,
   "metadata": {},
   "outputs": [],
   "source": [
    "### Parameter tuning for Naive Bays - 'vec__max_features': 6000, 'vec__ngram_range': (1, 1)"
   ]
  },
  {
   "cell_type": "markdown",
   "metadata": {},
   "source": [
    "|Model Type|cvs| training score|test score| tn |fp|fn|tp|senitivity|specificity\n",
    "|---|---|---|---|---|---|---|---|---|---|\n",
    "|Bernoilli-Count|0.96|0.97|0.96|11852|648|286|12214|97.71%|94.82%\n",
    "|Bernoilli-TFID|0.96|0.97|0.96|11867|633|305|12195|97.56%|94.94%\n",
    "|Multinomial-Count|0.96|0.97|0.97|11878|622|252|12248|97.98%|95.02%\n",
    "|Multinomial-TFID|0.96|0.97|0.96|11844|656|234|12266|98.13%|94.75%"
   ]
  },
  {
   "cell_type": "markdown",
   "metadata": {},
   "source": [
    "# Conclusion\n",
    "The results were promising as the model was simple and yet could accurately predict 97% percent of the time if a post belongs to a subreddit or not.  (accuracy)\n",
    "For every correct 100 sumissions model agreed with 97 of them. (Sensitivity)\n",
    "Similarly, for every 100 wrong messages that landed in the sub-reddit model could predicted 95 of them correctly.(Specificity)\n",
    "\n",
    "While it might be some what expected as travel and food may not have a lot of overlapping words and classifier can do a pretty good job of putting them in the right buckets."
   ]
  },
  {
   "cell_type": "markdown",
   "metadata": {},
   "source": [
    "# References\n",
    "\n",
    "https://www.youtube.com/watch?v=AcrjEWsMi_E&feature=youtu.be\n",
    "\n",
    "https://pandas.pydata.org/pandas-docs/stable/reference/api/pandas.Timestamp.html\n",
    "\n",
    "https://github.com/pushshift/api\n",
    "\n",
    "\n",
    "https://git.generalassemb.ly/DSI-US-10/5.02-lesson-webscraping/blob/lecture-wc/Codealong.ipynb\n",
    "\n",
    "https://api.pushshift.io/reddit/search/submission?subreddit=boardgames\n",
    "\n",
    "https://www.epochconverter.com/\n",
    "\n",
    "\n",
    "https://bigishdata.com/2016/12/05/classifying-amazon-reviews-with-scikit-learn-more-data-is-better-turns-out/\n",
    "\n",
    "https://www.datacamp.com/community/tutorials/wordcloud-python"
   ]
  },
  {
   "cell_type": "code",
   "execution_count": null,
   "metadata": {},
   "outputs": [],
   "source": []
  }
 ],
 "metadata": {
  "kernelspec": {
   "display_name": "Python 3",
   "language": "python",
   "name": "python3"
  },
  "language_info": {
   "codemirror_mode": {
    "name": "ipython",
    "version": 3
   },
   "file_extension": ".py",
   "mimetype": "text/x-python",
   "name": "python",
   "nbconvert_exporter": "python",
   "pygments_lexer": "ipython3",
   "version": "3.7.4"
  }
 },
 "nbformat": 4,
 "nbformat_minor": 2
}
