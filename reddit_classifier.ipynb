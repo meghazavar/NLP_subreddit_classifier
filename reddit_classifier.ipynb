{
 "cells": [
  {
   "cell_type": "markdown",
   "metadata": {},
   "source": [
    "# Problem  Statement : Classify the post in to one of the two categories?"
   ]
  },
  {
   "cell_type": "code",
   "execution_count": 34,
   "metadata": {},
   "outputs": [],
   "source": [
    "#!pip install wordcloud\n",
    "import seaborn as sns\n",
    "from wordcloud import WordCloud\n",
    "import matplotlib.pyplot as plt\n",
    "import requests\n",
    "\n",
    "import pandas as pd\n",
    "import numpy as np\n",
    "import sys \n",
    "import regex as re\n",
    "sys.path.insert(0, '/Users/mybiyani/Desktop/ga/common_code/')\n",
    "from eda  import Helper\n",
    "from sklearn.linear_model import LogisticRegression\n",
    "from nltk.stem.porter import PorterStemmer\n",
    "from sklearn.metrics import confusion_matrix\n",
    "from sklearn.model_selection import train_test_split,cross_val_score,GridSearchCV \n",
    "from sklearn.feature_extraction.text import CountVectorizer,TfidfVectorizer\n",
    "from sklearn.neighbors import KNeighborsClassifier\n",
    "from sklearn.naive_bayes import GaussianNB,MultinomialNB,BernoulliNB\n",
    "from sklearn.pipeline import Pipeline\n",
    "from sklearn.feature_extraction import stop_words\n",
    "from sklearn.preprocessing import StandardScaler\n",
    "from sklearn.svm import SVC\n",
    "from sklearn.preprocessing import LabelEncoder "
   ]
  },
  {
   "cell_type": "code",
   "execution_count": 35,
   "metadata": {},
   "outputs": [
    {
     "name": "stdout",
     "output_type": "stream",
     "text": [
      "Hello World!\n"
     ]
    },
    {
     "data": {
      "image/png": "[encoded data removed]",
      "text/plain": [
       "<Figure size 432x288 with 1 Axes>"
      ]
     },
     "metadata": {
      "needs_background": "light"
     },
     "output_type": "display_data"
    }
   ],
   "source": [
    "edahelper =Helper()\n",
    "\n",
    "# . Project Title using world cloud , because its fun!\n",
    "text = 'Reddit NLP Text Classifier Sub-reddit Travel Food'\n",
    "\n",
    "# Create and generate a word cloud image:\n",
    "wordcloud = WordCloud().generate(text)\n",
    "\n",
    "# Display the generated image:\n",
    "plt.imshow(wordcloud, interpolation='bilinear')\n",
    "plt.axis(\"off\")\n",
    "plt.show()"
   ]
  },
  {
   "cell_type": "markdown",
   "metadata": {},
   "source": [
    "## Gather and prepare your data using the requests library.\n",
    "Using Pushshift's API, we'll collect posts from subreddits -."
   ]
  },
  {
   "cell_type": "code",
   "execution_count": 36,
   "metadata": {},
   "outputs": [
    {
     "name": "stdout",
     "output_type": "stream",
     "text": [
      "travel - getting batch 1 of  500 posts....for 1580171621\n",
      "travel - getting batch 2 of  500 posts....for 1580006803\n",
      "travel - getting batch 3 of  500 posts....for 1579829275\n",
      "travel - getting batch 4 of  500 posts....for 1579687340\n",
      "travel - getting batch 5 of  500 posts....for 1579544245\n",
      "travel - getting batch 6 of  500 posts....for 1579396831\n",
      "travel - getting batch 7 of  500 posts....for 1579234693\n",
      "travel - getting batch 8 of  500 posts....for 1579093702\n",
      "travel - getting batch 9 of  500 posts....for 1578949516\n",
      "travel - getting batch 10 of  500 posts....for 1578809433\n",
      "travel - getting batch 11 of  500 posts....for 1578666797\n",
      "travel - getting batch 12 of  500 posts....for 1578523671\n",
      "travel - getting batch 13 of  500 posts....for 1578392820\n",
      "travel - getting batch 14 of  500 posts....for 1578244582\n",
      "travel - getting batch 15 of  500 posts....for 1578094717\n",
      "travel - getting batch 16 of  500 posts....for 1577958051\n",
      "travel - getting batch 17 of  500 posts....for 1577764561\n",
      "travel - getting batch 18 of  500 posts....for 1577630248\n",
      "travel - getting batch 19 of  500 posts....for 1577475395\n",
      "travel - getting batch 20 of  500 posts....for 1577329655\n",
      "Retrieved 10000 posts fortravel from 2019-12-23 19:40:24 to 2020-01-28 00:33:29\n",
      "food - getting batch 1 of  500 posts....for 1580171621\n",
      "food - getting batch 2 of  500 posts....for 1580086942\n",
      "food - getting batch 3 of  500 posts....for 1580025993\n",
      "food - getting batch 4 of  500 posts....for 1579964188\n",
      "food - getting batch 5 of  500 posts....for 1579877186\n",
      "food - getting batch 6 of  500 posts....for 1579783474\n",
      "food - getting batch 7 of  500 posts....for 1579697370\n",
      "food - getting batch 8 of  500 posts....for 1579620272\n",
      "food - getting batch 9 of  500 posts....for 1579541676\n",
      "food - getting batch 10 of  500 posts....for 1579475488\n",
      "food - getting batch 11 of  500 posts....for 1579414294\n",
      "food - getting batch 12 of  500 posts....for 1579356922\n",
      "food - getting batch 13 of  500 posts....for 1579273039\n",
      "food - getting batch 14 of  500 posts....for 1579183485\n",
      "food - getting batch 15 of  500 posts....for 1579099921\n",
      "food - getting batch 16 of  500 posts....for 1579024156\n",
      "food - getting batch 17 of  500 posts....for 1578941611\n",
      "food - getting batch 18 of  500 posts....for 1578873171\n",
      "food - getting batch 19 of  500 posts....for 1578805653\n",
      "food - getting batch 20 of  500 posts....for 1578752413\n",
      "Retrieved 10000 posts forfood from 2020-01-10 13:32:03 to 2020-01-28 00:30:23\n"
     ]
    },
    {
     "name": "stderr",
     "output_type": "stream",
     "text": [
      "/Users/mybiyani/opt/anaconda3/lib/python3.7/site-packages/ipykernel_launcher.py:34: FutureWarning: Sorting because non-concatenation axis is not aligned. A future version\n",
      "of pandas will change to not sort by default.\n",
      "\n",
      "To accept the future behavior, pass 'sort=False'.\n",
      "\n",
      "To retain the current behavior and silence the warning, pass 'sort=True'.\n",
      "\n"
     ]
    }
   ],
   "source": [
    "'''Get the specified numer of Subreddit posts for a given sub-reddit'''\n",
    "'''Parameters . - subreddit - subreddit name . example - travel , food'''\n",
    "'''n  = no of submissions we  want to pull from the subreddit'''\n",
    "def get_submission( subreddit, n = 10000 ):\n",
    "    df= pd.DataFrame()\n",
    "    base_url ='https://api.pushshift.io/'\n",
    "    submission_url = base_url + '/reddit/search/submission'\n",
    "    epoch_min_ts =  1580171621 #  EPOCH timestamp for Jan 27 2020  now\n",
    "    batch_size=500\n",
    "    for i in range(int(n/batch_size)): # . data is pulled in bacthes of 500,\n",
    "        \n",
    "        params ={'subreddit' :subreddit ,'size' :batch_size, 'sort' :'desc','sort_type':'created_utc' ,'before' :epoch_min_ts }\n",
    "        response = requests.get(submission_url,params)\n",
    "        if( response.status_code !=200):\n",
    "            print(f\"Api call failed with error {response.status_code }\")\n",
    "        else:\n",
    "            print(f\"{subreddit} - getting batch {i+1} of  500 posts....for {epoch_min_ts}\")\n",
    "            \n",
    "        submissions =response.json()\n",
    "        posts = submissions['data']\n",
    "        dfi =pd.DataFrame(posts) \n",
    "        # convert the EPOC time to UTC date time format\n",
    "        dfi['created_utc_dt'] = dfi['created_utc'].apply(lambda x: pd.Timestamp(x,unit='s'))\n",
    "        epoch_min_ts =dfi['created_utc'].min() # find the timestamp for oldest messages\n",
    "        \n",
    "        df= pd.concat([df,dfi],sort=False) \n",
    "    print(f\"Retrieved {len(df)} posts for{subreddit} from {df['created_utc_dt'].min()} to {df['created_utc_dt'].max()}\")   \n",
    "    return df\n",
    "#---------------------------------------------------------------------------------------------------\n",
    "subreddits_list= ['travel','food']    \n",
    "df_subreddit = pd.DataFrame()\n",
    "for i in range(len(subreddits_list)):  \n",
    "     dfi = get_submission(subreddits_list[i])\n",
    "     df_subreddit = pd.concat([df_subreddit,dfi])\n"
   ]
  },
  {
   "cell_type": "markdown",
   "metadata": {},
   "source": [
    "###### Checking the distribution of messages from the subreddits"
   ]
  },
  {
   "cell_type": "code",
   "execution_count": 37,
   "metadata": {},
   "outputs": [
    {
     "data": {
      "text/plain": [
       "food      10000\n",
       "travel    10000\n",
       "Name: subreddit, dtype: int64"
      ]
     },
     "execution_count": 37,
     "metadata": {},
     "output_type": "execute_result"
    }
   ],
   "source": [
    "df_subreddit['subreddit'].value_counts()"
   ]
  },
  {
   "cell_type": "markdown",
   "metadata": {},
   "source": [
    "#####  saving the data to a csv locally for laster use"
   ]
  },
  {
   "cell_type": "code",
   "execution_count": 38,
   "metadata": {},
   "outputs": [],
   "source": [
    "df_subreddit.to_csv('offline_travel_food_small.csv',index =False)"
   ]
  },
  {
   "cell_type": "markdown",
   "metadata": {},
   "source": [
    "## Exploratory Data Analysis"
   ]
  },
  {
   "cell_type": "code",
   "execution_count": 39,
   "metadata": {},
   "outputs": [
    {
     "data": {
      "text/html": [
       "<div>\n",
       "<style scoped>\n",
       "    .dataframe tbody tr th:only-of-type {\n",
       "        vertical-align: middle;\n",
       "    }\n",
       "\n",
       "    .dataframe tbody tr th {\n",
       "        vertical-align: top;\n",
       "    }\n",
       "\n",
       "    .dataframe thead th {\n",
       "        text-align: right;\n",
       "    }\n",
       "</style>\n",
       "<table border=\"1\" class=\"dataframe\">\n",
       "  <thead>\n",
       "    <tr style=\"text-align: right;\">\n",
       "      <th></th>\n",
       "      <th>title</th>\n",
       "      <th>subreddit</th>\n",
       "      <th>created_utc</th>\n",
       "    </tr>\n",
       "  </thead>\n",
       "  <tbody>\n",
       "    <tr>\n",
       "      <th>0</th>\n",
       "      <td>[Homemade] Hot ham off the bone, Colby cheese,...</td>\n",
       "      <td>food</td>\n",
       "      <td>1580171423</td>\n",
       "    </tr>\n",
       "  </tbody>\n",
       "</table>\n",
       "</div>"
      ],
      "text/plain": [
       "                                               title subreddit  created_utc\n",
       "0  [Homemade] Hot ham off the bone, Colby cheese,...      food   1580171423"
      ]
     },
     "execution_count": 39,
     "metadata": {},
     "output_type": "execute_result"
    }
   ],
   "source": [
    "df_subreddit[df_subreddit['subreddit'] !='travel'][reddit_post_features].head(1)"
   ]
  },
  {
   "cell_type": "markdown",
   "metadata": {},
   "source": [
    "###### . Inspecting data  to look at data types, missing data, number of rows.\n",
    "Title which is our feature  has 100 % data ! \n",
    "The sub-reddit categories are non-numerical- we we'' need to encode to numeric form."
   ]
  },
  {
   "cell_type": "code",
   "execution_count": 40,
   "metadata": {},
   "outputs": [
    {
     "name": "stdout",
     "output_type": "stream",
     "text": [
      "* We have 20000 number of rows 80 number of columns\n",
      "* Numeric column count :31\n",
      "* Numeric  columns :\n",
      "---------------------\n",
      "allow_live_comments                 bool\n",
      "can_mod_post                        bool\n",
      "contest_mode                        bool\n",
      "created_utc                        int64\n",
      "created_utc_dt            datetime64[ns]\n",
      "edited                           float64\n",
      "is_crosspostable                    bool\n",
      "is_meta                             bool\n",
      "is_original_content                 bool\n",
      "is_reddit_media_domain              bool\n",
      "is_robot_indexable                  bool\n",
      "is_self                             bool\n",
      "is_video                            bool\n",
      "locked                              bool\n",
      "media_only                          bool\n",
      "no_follow                           bool\n",
      "num_comments                       int64\n",
      "num_crossposts                     int64\n",
      "over_18                             bool\n",
      "pinned                              bool\n",
      "pwls                               int64\n",
      "retrieved_on                       int64\n",
      "score                              int64\n",
      "send_replies                        bool\n",
      "spoiler                             bool\n",
      "stickied                            bool\n",
      "subreddit_subscribers              int64\n",
      "thumbnail_height                 float64\n",
      "thumbnail_width                  float64\n",
      "total_awards_received              int64\n",
      "wls                                int64\n",
      "dtype: object\n",
      "* Non-Numeric column count :49\n",
      "* Non-numeric  columns :\n",
      "---------------------\n",
      "all_awardings                    object\n",
      "author                           object\n",
      "author_cakeday                   object\n",
      "author_flair_background_color    object\n",
      "author_flair_css_class           object\n",
      "author_flair_richtext            object\n",
      "author_flair_template_id         object\n",
      "author_flair_text                object\n",
      "author_flair_text_color          object\n",
      "author_flair_type                object\n",
      "author_fullname                  object\n",
      "author_patreon_flair             object\n",
      "author_premium                   object\n",
      "awarders                         object\n",
      "banned_by                        object\n",
      "crosspost_parent                 object\n",
      "crosspost_parent_list            object\n",
      "distinguished                    object\n",
      "domain                           object\n",
      "full_link                        object\n",
      "gildings                         object\n",
      "id                               object\n",
      "link_flair_background_color      object\n",
      "link_flair_css_class             object\n",
      "link_flair_richtext              object\n",
      "link_flair_template_id           object\n",
      "link_flair_text                  object\n",
      "link_flair_text_color            object\n",
      "link_flair_type                  object\n",
      "media                            object\n",
      "media_embed                      object\n",
      "media_metadata                   object\n",
      "parent_whitelist_status          object\n",
      "permalink                        object\n",
      "post_hint                        object\n",
      "preview                          object\n",
      "removed_by_category              object\n",
      "secure_media                     object\n",
      "secure_media_embed               object\n",
      "selftext                         object\n",
      "steward_reports                  object\n",
      "subreddit                        object\n",
      "subreddit_id                     object\n",
      "subreddit_type                   object\n",
      "suggested_sort                   object\n",
      "thumbnail                        object\n",
      "title                            object\n",
      "url                              object\n",
      "whitelist_status                 object\n",
      "dtype: object\n",
      "* The missing data count is 448424\n",
      "distinguished                    99.995\n",
      "suggested_sort                   99.980\n",
      "media_metadata                   99.905\n",
      "banned_by                        99.885\n",
      "edited                           99.875\n",
      "author_cakeday                   99.510\n",
      "author_flair_template_id         99.205\n",
      "author_flair_background_color    99.110\n",
      "author_flair_text                98.790\n",
      "author_flair_css_class           98.755\n",
      "crosspost_parent                 98.665\n",
      "crosspost_parent_list            98.665\n",
      "author_flair_text_color          98.315\n",
      "secure_media_embed               95.960\n",
      "media_embed                      95.960\n",
      "secure_media                     95.855\n",
      "media                            95.855\n",
      "link_flair_template_id           84.815\n",
      "post_hint                        71.765\n",
      "preview                          71.765\n",
      "thumbnail_height                 70.440\n",
      "thumbnail_width                  70.440\n",
      "link_flair_css_class             62.325\n",
      "link_flair_text                  62.255\n",
      "removed_by_category              46.960\n",
      "steward_reports                  24.755\n",
      "author_premium                    0.440\n",
      "author_patreon_flair              0.440\n",
      "author_fullname                   0.440\n",
      "author_flair_type                 0.440\n",
      "author_flair_richtext             0.440\n",
      "selftext                          0.115\n",
      "dtype: float64\n",
      "target subreddit is non-numeric.We need to translate this to number\n"
     ]
    }
   ],
   "source": [
    "edahelper.inspect_dataset(df_subreddit,'subreddit')"
   ]
  },
  {
   "cell_type": "markdown",
   "metadata": {},
   "source": [
    "######  Converting the  corpus  in to  words by  turning them . to a lower case, \n",
    "removing punctuation and reducting words to their stem forms"
   ]
  },
  {
   "cell_type": "code",
   "execution_count": 41,
   "metadata": {},
   "outputs": [
    {
     "data": {
      "text/html": [
       "<div>\n",
       "<style scoped>\n",
       "    .dataframe tbody tr th:only-of-type {\n",
       "        vertical-align: middle;\n",
       "    }\n",
       "\n",
       "    .dataframe tbody tr th {\n",
       "        vertical-align: top;\n",
       "    }\n",
       "\n",
       "    .dataframe thead th {\n",
       "        text-align: right;\n",
       "    }\n",
       "</style>\n",
       "<table border=\"1\" class=\"dataframe\">\n",
       "  <thead>\n",
       "    <tr style=\"text-align: right;\">\n",
       "      <th></th>\n",
       "      <th>title</th>\n",
       "      <th>subreddit</th>\n",
       "      <th>created_utc</th>\n",
       "    </tr>\n",
       "  </thead>\n",
       "  <tbody>\n",
       "    <tr>\n",
       "      <th>0</th>\n",
       "      <td>germani franc belgium netherland with month ol...</td>\n",
       "      <td>travel</td>\n",
       "      <td>1580171609</td>\n",
       "    </tr>\n",
       "  </tbody>\n",
       "</table>\n",
       "</div>"
      ],
      "text/plain": [
       "                                               title subreddit  created_utc\n",
       "0  germani franc belgium netherland with month ol...    travel   1580171609"
      ]
     },
     "execution_count": 41,
     "metadata": {},
     "output_type": "execute_result"
    }
   ],
   "source": [
    "def create_bag_of_words(msg):\n",
    "    #1 remove anything other than alphabets\n",
    "    letters_only = re.sub(\"[^a-zA-Z]\", \" \", msg) # Remove non-letters.\n",
    "    words = letters_only.lower().split()  #Convert to lower case, split into individual words.\n",
    "    ps= PorterStemmer()\n",
    "    base_words =[ps.stem(w) for w  in words] \n",
    "    return(\" \".join(base_words))# 6. Join the words back into one string separated by space, \n",
    "\n",
    "''' Creating bag of words for the corpus'''\n",
    "df_subreddit['title'] = df_subreddit['title'].apply(create_bag_of_words)\n",
    "df_subreddit[reddit_post_features].head(1)"
   ]
  },
  {
   "cell_type": "markdown",
   "metadata": {},
   "source": [
    "#### Converting the target variable to the numerical value"
   ]
  },
  {
   "cell_type": "code",
   "execution_count": 42,
   "metadata": {},
   "outputs": [
    {
     "data": {
      "text/plain": [
       "food      0.5\n",
       "travel    0.5\n",
       "Name: subreddit, dtype: float64"
      ]
     },
     "execution_count": 42,
     "metadata": {},
     "output_type": "execute_result"
    }
   ],
   "source": [
    "le =LabelEncoder()\n",
    "df_subreddit[\"subreddit_num\"] =le.fit_transform(df_subreddit[\"subreddit\"])\n",
    "df_subreddit['subreddit'].value_counts(normalize=True)"
   ]
  },
  {
   "cell_type": "markdown",
   "metadata": {},
   "source": [
    "####  We are expecting base line score - 50 % - a submission has 50 percent chance of belonging to  either category."
   ]
  },
  {
   "cell_type": "code",
   "execution_count": 48,
   "metadata": {},
   "outputs": [
    {
     "data": {
      "text/html": [
       "<div>\n",
       "<style scoped>\n",
       "    .dataframe tbody tr th:only-of-type {\n",
       "        vertical-align: middle;\n",
       "    }\n",
       "\n",
       "    .dataframe tbody tr th {\n",
       "        vertical-align: top;\n",
       "    }\n",
       "\n",
       "    .dataframe thead th {\n",
       "        text-align: right;\n",
       "    }\n",
       "</style>\n",
       "<table border=\"1\" class=\"dataframe\">\n",
       "  <thead>\n",
       "    <tr style=\"text-align: right;\">\n",
       "      <th></th>\n",
       "      <th>title</th>\n",
       "      <th>subreddit</th>\n",
       "      <th>subreddit_num</th>\n",
       "    </tr>\n",
       "  </thead>\n",
       "  <tbody>\n",
       "    <tr>\n",
       "      <th>0</th>\n",
       "      <td>germani franc belgium netherland with month ol...</td>\n",
       "      <td>travel</td>\n",
       "      <td>1</td>\n",
       "    </tr>\n",
       "    <tr>\n",
       "      <th>1</th>\n",
       "      <td>chongq is beauti even if no one is out right n...</td>\n",
       "      <td>travel</td>\n",
       "      <td>1</td>\n",
       "    </tr>\n",
       "    <tr>\n",
       "      <th>2</th>\n",
       "      <td>first time visit budapest in earli octob</td>\n",
       "      <td>travel</td>\n",
       "      <td>1</td>\n",
       "    </tr>\n",
       "    <tr>\n",
       "      <th>3</th>\n",
       "      <td>chongq from jiefangbei district the build are ...</td>\n",
       "      <td>travel</td>\n",
       "      <td>1</td>\n",
       "    </tr>\n",
       "    <tr>\n",
       "      <th>4</th>\n",
       "      <td>i wa look for good travel channel and i found ...</td>\n",
       "      <td>travel</td>\n",
       "      <td>1</td>\n",
       "    </tr>\n",
       "  </tbody>\n",
       "</table>\n",
       "</div>"
      ],
      "text/plain": [
       "                                               title subreddit  subreddit_num\n",
       "0  germani franc belgium netherland with month ol...    travel              1\n",
       "1  chongq is beauti even if no one is out right n...    travel              1\n",
       "2           first time visit budapest in earli octob    travel              1\n",
       "3  chongq from jiefangbei district the build are ...    travel              1\n",
       "4  i wa look for good travel channel and i found ...    travel              1"
      ]
     },
     "execution_count": 48,
     "metadata": {},
     "output_type": "execute_result"
    }
   ],
   "source": [
    "df_subreddit[['title','subreddit', 'subreddit_num']].head()"
   ]
  },
  {
   "cell_type": "markdown",
   "metadata": {},
   "source": [
    "######  Split the data in training and testing set\n"
   ]
  },
  {
   "cell_type": "code",
   "execution_count": 49,
   "metadata": {},
   "outputs": [],
   "source": [
    "X =df_subreddit['title']\n",
    "y=df_subreddit['subreddit_num']\n",
    "X_train, X_test, y_train,y_test= train_test_split(X,y,test_size =0.33 ,random_state=42, stratify =y)"
   ]
  },
  {
   "cell_type": "code",
   "execution_count": 50,
   "metadata": {},
   "outputs": [],
   "source": [
    "###### . Lets look at the most frequently used words and most relevant words ."
   ]
  },
  {
   "cell_type": "code",
   "execution_count": 51,
   "metadata": {},
   "outputs": [
    {
     "name": "stdout",
     "output_type": "stream",
     "text": [
      "CountVectorizer Total features = 10252\n"
     ]
    },
    {
     "data": {
      "text/plain": [
       "homemad    3807\n",
       "ate        1046\n",
       "travel     1045\n",
       "chicken     703\n",
       "thi         628\n",
       "trip        483\n",
       "day         455\n",
       "chees       428\n",
       "best        418\n",
       "fri         407\n",
       "dtype: int64"
      ]
     },
     "execution_count": 51,
     "metadata": {},
     "output_type": "execute_result"
    }
   ],
   "source": [
    "cv = CountVectorizer(stop_words='english')\n",
    "cv.fit(X_train)\n",
    "X_train_cv = cv.transform(X_train)\n",
    "print(f\"CountVectorizer Total features = {len(cv.get_feature_names())}\")\n",
    "words = pd.DataFrame(X_train_cv.todense(), columns=cv.get_feature_names())\n",
    "words.sum().sort_values(ascending=False).head(10)"
   ]
  },
  {
   "cell_type": "code",
   "execution_count": 52,
   "metadata": {},
   "outputs": [
    {
     "name": "stdout",
     "output_type": "stream",
     "text": [
      "TfidfVectorizer Total features = 10252\n"
     ]
    },
    {
     "data": {
      "text/plain": [
       "homemad    636.195930\n",
       "ate        268.777538\n",
       "travel     256.751485\n",
       "chicken    203.019827\n",
       "trip       136.873341\n",
       "thi        131.056685\n",
       "fri        121.245277\n",
       "day        118.923813\n",
       "chees      118.569754\n",
       "best       113.632995\n",
       "egg         98.467612\n",
       "pizza       97.149298\n",
       "time        90.653934\n",
       "pork        86.854237\n",
       "new         86.819160\n",
       "potato      86.335865\n",
       "visit       85.866294\n",
       "amp         84.974425\n",
       "place       81.132396\n",
       "help        80.184705\n",
       "dtype: float64"
      ]
     },
     "execution_count": 52,
     "metadata": {},
     "output_type": "execute_result"
    }
   ],
   "source": [
    "# Let's look at the most frequently used words.\n",
    "cv = TfidfVectorizer(stop_words='english')\n",
    "cv.fit(X_train)\n",
    "X_train_cv = cv.transform(X_train)\n",
    "print(f\"TfidfVectorizer Total features = {len(cv.get_feature_names())}\")\n",
    "words = pd.DataFrame(X_train_cv.todense(), columns=cv.get_feature_names())\n",
    "words.sum().sort_values(ascending=False).head(20)"
   ]
  },
  {
   "cell_type": "code",
   "execution_count": 53,
   "metadata": {},
   "outputs": [
    {
     "data": {
      "image/png": "[encoded data removed]",
      "text/plain": [
       "<Figure size 432x288 with 1 Axes>"
      ]
     },
     "metadata": {
      "needs_background": "light"
     },
     "output_type": "display_data"
    }
   ],
   "source": [
    "# Plot the lengths of the words.\n",
    "lengths_of_words = [len(each) for each in words.columns]\n",
    "plt.hist(lengths_of_words)\n",
    "plt.xlabel(\"length of words\")\n",
    "plt.ylabel(\"frequency\")\n",
    "plt.title('Most of the words are 5-7 characters long');"
   ]
  },
  {
   "cell_type": "code",
   "execution_count": 54,
   "metadata": {},
   "outputs": [
    {
     "data": {
      "image/png": "[encoded data removed]",
      "text/plain": [
       "<Figure size 432x288 with 1 Axes>"
      ]
     },
     "metadata": {
      "needs_background": "light"
     },
     "output_type": "display_data"
    }
   ],
   "source": [
    "# Plot the lengths of the posts.\n",
    "lengths_of_posts = [len(each) for each in X]\n",
    "plt.hist(lengths_of_posts)\n",
    "plt.xlabel(\"length of the title of posts\")\n",
    "plt.ylabel(\"frequency\")\n",
    "plt.title('Most of the Title are 50ish characters long');"
   ]
  },
  {
   "cell_type": "markdown",
   "metadata": {},
   "source": [
    "# Create models\n",
    "\n",
    "##  Naive Bayes"
   ]
  },
  {
   "cell_type": "code",
   "execution_count": 55,
   "metadata": {},
   "outputs": [],
   "source": [
    "def evaluate_classifier(model,vectorizer,md,X_test,y_test):\n",
    "    y_pred = md.predict(X_test)\n",
    "    tn, fp, fn, tp = confusion_matrix(y_test,y_pred,labels=[0,1]).ravel()  \n",
    "    \n",
    "    cvs =np.round(cross_val_score(md, X_train, y_train, cv=3).mean(),2)\n",
    "    tr_sc =np.round(md.score(X_train,y_train),2)\n",
    "    te_sc = np.round(md.score(X_test,y_test),2)\n",
    "    sensitivity = np.round(((tp)/(tp+fn))*100,2)\n",
    "    specificity = np.round(((tn)/(tn+fp))*100,2)\n",
    "    print(f\"|{model}-{vectorizer}|{cvs}|{tr_sc}|{te_sc}|{tn}|{fp}|{fn}|{tp}|{sensitivity}%|{specificity}%\")\n",
    "    return y_pred\n",
    "    "
   ]
  },
  {
   "cell_type": "code",
   "execution_count": 56,
   "metadata": {},
   "outputs": [
    {
     "name": "stdout",
     "output_type": "stream",
     "text": [
      "|Model Type|cvs| training score|test score| tn |fp|fn|tp|senitivity|specificity\n",
      "|---|---|---|---|---|---|---|---|---|---|\n",
      "|Bernoilli-Count|0.93|0.93|0.94|2200|300|12|2488|99.52%|88.0%\n",
      "|Bernoilli-TFID|0.93|0.93|0.94|2196|304|16|2484|99.36%|87.84%\n",
      "|Multinomial-Count|0.8|0.8|0.79|2373|127|901|1599|63.96%|94.92%\n",
      "|Multinomial-TFID|0.8|0.81|0.81|2390|110|847|1653|66.12%|95.6%\n",
      "|knn-Count|0.88|0.93|0.93|2169|331|38|2462|98.48%|86.76%\n",
      "|knn-TFID|0.88|0.93|0.92|2172|328|62|2438|97.52%|86.88%\n",
      "|LogisticRegression-Count|0.93|0.93|0.93|2169|331|19|2481|99.24%|86.76%\n",
      "|LogisticRegression-TFID|0.93|0.93|0.93|2193|307|28|2472|98.88%|87.72%\n",
      "|SVM-Count|0.93|0.94|0.93|2209|291|40|2460|98.4%|88.36%\n",
      "|SVM-TFID|0.93|0.94|0.93|2196|304|34|2466|98.64%|87.84%\n"
     ]
    },
    {
     "data": {
      "text/plain": [
       "array([1, 0, 1, ..., 1, 1, 1])"
      ]
     },
     "execution_count": 56,
     "metadata": {},
     "output_type": "execute_result"
    }
   ],
   "source": [
    "def classify_posts(model ='Bernoilli',vectorizer='Count'):\n",
    "    X_train,X_test,y_train,y_test=train_test_split(X,y,stratify=y)\n",
    "    \n",
    "    v= TfidfVectorizer(stop_words='english',max_features =100) if(vectorizer =='TFID') else CountVectorizer(stop_words='english',max_features =100)\n",
    "    pipe = Pipeline([ \n",
    "                     ('vec' ,v ) ,\n",
    "                      ('mnb', BernoulliNB())])\n",
    "    \n",
    "    if(model =='Multinomial'):\n",
    "        pipe = Pipeline([ \n",
    "                     ('vec' , v) , \n",
    "                      ('mnb', MultinomialNB())])\n",
    "        \n",
    "    elif(model ==\"LogisticRegression\"):\n",
    "        pipe =Pipeline([\n",
    "            ('vec',v),\n",
    "            ('lr',LogisticRegression(solver='liblinear'))\n",
    "        ])\n",
    "        \n",
    "    elif(model =='knn'):\n",
    "        pipe= Pipeline([\n",
    "            ('vec',v),\n",
    "             ('knn',KNeighborsClassifier())\n",
    "        ])\n",
    "    elif(model =='SVM'):\n",
    "        pipe= Pipeline([\n",
    "            ('vec',v),\n",
    "            ('svc',SVC(gamma=\"scale\"))\n",
    "        ])\n",
    "    \n",
    "    pipe.fit(X_train,y_train)\n",
    "    y_pred = evaluate_classifier(model,vectorizer,pipe,X_test,y_test)\n",
    "    return y_pred\n",
    "    \n",
    "print(\"|Model Type|cvs| training score|test score| tn |fp|fn|tp|senitivity|specificity\")\n",
    "print(\"|---|---|---|---|---|---|---|---|---|---|\")\n",
    "\n",
    "classify_posts(\"Bernoilli\",'Count')\n",
    "classify_posts(\"Bernoilli\",'TFID')\n",
    "\n",
    "classify_posts(\"Multinomial\",'Count')\n",
    "classify_posts(\"Multinomial\",'TFID')\n",
    "\n",
    "classify_posts('knn','Count')\n",
    "classify_posts('knn','TFID')\n",
    "\n",
    "classify_posts(\"LogisticRegression\",'Count')\n",
    "classify_posts(\"LogisticRegression\",'TFID')\n",
    "\n",
    "classify_posts('SVM','Count')\n",
    "classify_posts('SVM','TFID')"
   ]
  },
  {
   "cell_type": "markdown",
   "metadata": {},
   "source": [
    "#### 1. Results summary. - Categories - Travel and Food"
   ]
  },
  {
   "cell_type": "markdown",
   "metadata": {},
   "source": [
    "|Model Type|cvs| training score|test score| tn |fp|fn|tp|senitivity|specificity\n",
    "|---|---|---|---|---|---|---|---|---|---|\n",
    "|Bernoilli-Count|0.95|0.97|0.96|1189|61|30|1220|97.6%|95.12%\n",
    "|Bernoilli-TFID|0.95|0.97|0.96|1181|69|37|1213|97.04%|94.48%\n",
    "|Multinomial-TFID|0.96|0.98|0.96|1196|54|41|1209|96.72%|95.68%\n",
    "|knn-Count|0.81|0.89|0.83|1172|78|346|904|72.32%|93.76%\n",
    "|knn-TFID|0.61|0.76|0.66|985|265|589|661|52.88%|78.8%\n",
    "|LogisticRegression-Count|0.95|0.98|0.96|1163|87|15|1235|98.8%|93.04%\n",
    "|LogisticRegression-TFID|0.95|0.97|0.96|1163|87|11|1239|99.12%|93.04%\n",
    "|SVM-Count|0.94|0.97|0.94|1115|135|5|1245|99.6%|89.2%\n",
    "|SVM-TFID|0.96|0.99|0.97|1175|75|6|1244|99.52%|94.0%"
   ]
  },
  {
   "cell_type": "markdown",
   "metadata": {},
   "source": [
    "###  The next section is  tuning some of the hyper parameters for Naive bays to evaluate if we could get better\n",
    "performance that what we are already getting"
   ]
  },
  {
   "cell_type": "code",
   "execution_count": 94,
   "metadata": {},
   "outputs": [
    {
     "name": "stdout",
     "output_type": "stream",
     "text": [
      "|Model Type|cvs| training score|test score| tn |fp|fn|tp|senitivity|specificity\n",
      "|---|---|---|---|---|---|---|---|---|---|\n",
      "{'vec__max_features': 1000, 'vec__ngram_range': (1, 1), 'vec__stop_words': frozenset({'four', 'detail', 'de', 'thereupon', 'too', 'sixty', 'further', 'we', 'when', 'however', 'except', 'indeed', 'am', 'any', 'put', 'along', 'several', 'thence', 'co', 'where', 'hereby', 'etc', 'wherein', 'see', 'together', 'become', 'already', 'yet', 'what', 'above', 'found', 'rather', 'least', 'move', 'top', 'elsewhere', 'nor', 'down', 'ie', 'do', 'than', 'forty', 'the', 'themselves', 'even', 'somehow', 'i', 'sincere', 'himself', 'each', 'of', 'fire', 'enough', 'afterwards', 'everything', 'is', 'upon', 'was', 'would', 'everyone', 'toward', 'due', 'whereby', 'latter', 'alone', 'amoungst', 'hereafter', 'eight', 'whether', 'twenty', 'should', 'again', 'often', 'been', 'him', 'less', 'empty', 'hundred', 'they', 'after', 'whereas', 'had', 'has', 'via', 'twelve', 'none', 'now', 'must', 'all', 'without', 'about', 'thereafter', 'seeming', 'there', 'many', 'thru', 'were', 'system', 'take', 'could', 'his', 'three', 'beforehand', 'per', 'most', 'ourselves', 'myself', 'be', 'whose', 'which', 'serious', 'becoming', 'my', 'under', 'as', 'cry', 'whither', 'only', 'few', 'though', 'on', 'their', 'below', 'mill', 'fill', 'these', 'something', 'anyone', 'ever', 'amount', 'seems', 'here', 'inc', 'across', 'former', 'anyway', 'once', 'such', 'every', 'next', 'itself', 'an', 'thereby', 'until', 'ours', 'made', 'yourself', 'off', 'those', 'me', 'if', 'go', 'have', 'nobody', 'becomes', 'much', 'give', 'for', 'fifty', 'noone', 'before', 'not', 'find', 'third', 'else', 'hers', 'one', 'cant', 'herein', 'whence', 'interest', 'although', 'thick', 'throughout', 'but', 'eg', 'thus', 'behind', 'through', 'side', 'namely', 'hereupon', 'them', 'same', 'or', 'from', 'up', 'she', 'nevertheless', 'two', 'who', 'because', 'in', 'couldnt', 'other', 'so', 'sometimes', 'con', 'amongst', 'whoever', 'sometime', 'last', 'never', 'everywhere', 'our', 'someone', 'hence', 'anyhow', 'eleven', 'mine', 'among', 'anywhere', 'around', 'to', 'almost', 'another', 'yourselves', 'back', 'well', 'then', 'ten', 'onto', 'being', 'please', 'bill', 'seemed', 'show', 'beside', 'towards', 'beyond', 'and', 'formerly', 'anything', 'your', 'against', 'also', 'by', 'front', 'a', 'name', 'its', 'full', 'keep', 'out', 'it', 'more', 'within', 'therefore', 'into', 'can', 'moreover', 'mostly', 'are', 'that', 'nine', 'neither', 'will', 'whereupon', 'somewhere', 'nothing', 'either', 'he', 'whereafter', 'latterly', 'therein', 'no', 'meanwhile', 'both', 'since', 'cannot', 'besides', 'while', 'her', 'over', 'some', 'during', 'how', 'whenever', 'hasnt', 'five', 'un', 'wherever', 'nowhere', 'very', 'perhaps', 'seem', 'thin', 'this', 'whom', 'otherwise', 'others', 'why', 'whole', 'may', 'first', 'yours', 're', 'at', 'still', 'became', 'call', 'you', 'between', 'herself', 'describe', 'ltd', 'get', 'always', 'might', 'own', 'whatever', 'six', 'with', 'done', 'fifteen', 'us', 'bottom', 'part'})}\n",
      "|GridSearchCV(cv=5, error_score='raise-deprecating',\n",
      "             estimator=Pipeline(memory=None,\n",
      "                                steps=[('vec',\n",
      "                                        CountVectorizer(analyzer='word',\n",
      "                                                        binary=False,\n",
      "                                                        decode_error='strict',\n",
      "                                                        dtype=<class 'numpy.int64'>,\n",
      "                                                        encoding='utf-8',\n",
      "                                                        input='content',\n",
      "                                                        lowercase=True,\n",
      "                                                        max_df=1.0,\n",
      "                                                        max_features=None,\n",
      "                                                        min_df=1,\n",
      "                                                        ngram_range=(1, 1),\n",
      "                                                        preprocessor=None,\n",
      "                                                        stop_words=None,\n",
      "                                                        strip_accents=None,\n",
      "                                                        toke...\n",
      "                         'vec__stop_words': [frozenset({'a', 'about', 'above',\n",
      "                                                        'across', 'after',\n",
      "                                                        'afterwards', 'again',\n",
      "                                                        'against', 'all',\n",
      "                                                        'almost', 'alone',\n",
      "                                                        'along', 'already',\n",
      "                                                        'also', 'although',\n",
      "                                                        'always', 'am', 'among',\n",
      "                                                        'amongst', 'amoungst',\n",
      "                                                        'amount', 'an', 'and',\n",
      "                                                        'another', 'any',\n",
      "                                                        'anyhow', 'anyone',\n",
      "                                                        'anything', 'anyway',\n",
      "                                                        'anywhere', ...}),\n",
      "                                             None]},\n",
      "             pre_dispatch='2*n_jobs', refit=True, return_train_score=False,\n",
      "             scoring=None, verbose=0)-Count|0.87|0.92|0.89|120|2|4|112|96.55%|98.36%\n",
      "{'vec__max_features': 1000, 'vec__ngram_range': (1, 1), 'vec__stop_words': frozenset({'four', 'detail', 'de', 'thereupon', 'too', 'sixty', 'further', 'we', 'when', 'however', 'except', 'indeed', 'am', 'any', 'put', 'along', 'several', 'thence', 'co', 'where', 'hereby', 'etc', 'wherein', 'see', 'together', 'become', 'already', 'yet', 'what', 'above', 'found', 'rather', 'least', 'move', 'top', 'elsewhere', 'nor', 'down', 'ie', 'do', 'than', 'forty', 'the', 'themselves', 'even', 'somehow', 'i', 'sincere', 'himself', 'each', 'of', 'fire', 'enough', 'afterwards', 'everything', 'is', 'upon', 'was', 'would', 'everyone', 'toward', 'due', 'whereby', 'latter', 'alone', 'amoungst', 'hereafter', 'eight', 'whether', 'twenty', 'should', 'again', 'often', 'been', 'him', 'less', 'empty', 'hundred', 'they', 'after', 'whereas', 'had', 'has', 'via', 'twelve', 'none', 'now', 'must', 'all', 'without', 'about', 'thereafter', 'seeming', 'there', 'many', 'thru', 'were', 'system', 'take', 'could', 'his', 'three', 'beforehand', 'per', 'most', 'ourselves', 'myself', 'be', 'whose', 'which', 'serious', 'becoming', 'my', 'under', 'as', 'cry', 'whither', 'only', 'few', 'though', 'on', 'their', 'below', 'mill', 'fill', 'these', 'something', 'anyone', 'ever', 'amount', 'seems', 'here', 'inc', 'across', 'former', 'anyway', 'once', 'such', 'every', 'next', 'itself', 'an', 'thereby', 'until', 'ours', 'made', 'yourself', 'off', 'those', 'me', 'if', 'go', 'have', 'nobody', 'becomes', 'much', 'give', 'for', 'fifty', 'noone', 'before', 'not', 'find', 'third', 'else', 'hers', 'one', 'cant', 'herein', 'whence', 'interest', 'although', 'thick', 'throughout', 'but', 'eg', 'thus', 'behind', 'through', 'side', 'namely', 'hereupon', 'them', 'same', 'or', 'from', 'up', 'she', 'nevertheless', 'two', 'who', 'because', 'in', 'couldnt', 'other', 'so', 'sometimes', 'con', 'amongst', 'whoever', 'sometime', 'last', 'never', 'everywhere', 'our', 'someone', 'hence', 'anyhow', 'eleven', 'mine', 'among', 'anywhere', 'around', 'to', 'almost', 'another', 'yourselves', 'back', 'well', 'then', 'ten', 'onto', 'being', 'please', 'bill', 'seemed', 'show', 'beside', 'towards', 'beyond', 'and', 'formerly', 'anything', 'your', 'against', 'also', 'by', 'front', 'a', 'name', 'its', 'full', 'keep', 'out', 'it', 'more', 'within', 'therefore', 'into', 'can', 'moreover', 'mostly', 'are', 'that', 'nine', 'neither', 'will', 'whereupon', 'somewhere', 'nothing', 'either', 'he', 'whereafter', 'latterly', 'therein', 'no', 'meanwhile', 'both', 'since', 'cannot', 'besides', 'while', 'her', 'over', 'some', 'during', 'how', 'whenever', 'hasnt', 'five', 'un', 'wherever', 'nowhere', 'very', 'perhaps', 'seem', 'thin', 'this', 'whom', 'otherwise', 'others', 'why', 'whole', 'may', 'first', 'yours', 're', 'at', 'still', 'became', 'call', 'you', 'between', 'herself', 'describe', 'ltd', 'get', 'always', 'might', 'own', 'whatever', 'six', 'with', 'done', 'fifteen', 'us', 'bottom', 'part'})}\n",
      "|GridSearchCV(cv=5, error_score='raise-deprecating',\n",
      "             estimator=Pipeline(memory=None,\n",
      "                                steps=[('vec',\n",
      "                                        TfidfVectorizer(analyzer='word',\n",
      "                                                        binary=False,\n",
      "                                                        decode_error='strict',\n",
      "                                                        dtype=<class 'numpy.float64'>,\n",
      "                                                        encoding='utf-8',\n",
      "                                                        input='content',\n",
      "                                                        lowercase=True,\n",
      "                                                        max_df=1.0,\n",
      "                                                        max_features=None,\n",
      "                                                        min_df=1,\n",
      "                                                        ngram_range=(1, 1),\n",
      "                                                        norm='l2',\n",
      "                                                        preprocessor=None,\n",
      "                                                        smooth_idf=True,\n",
      "                                                        stop_words=...\n",
      "                         'vec__stop_words': [frozenset({'a', 'about', 'above',\n",
      "                                                        'across', 'after',\n",
      "                                                        'afterwards', 'again',\n",
      "                                                        'against', 'all',\n",
      "                                                        'almost', 'alone',\n",
      "                                                        'along', 'already',\n",
      "                                                        'also', 'although',\n",
      "                                                        'always', 'am', 'among',\n",
      "                                                        'amongst', 'amoungst',\n",
      "                                                        'amount', 'an', 'and',\n",
      "                                                        'another', 'any',\n",
      "                                                        'anyhow', 'anyone',\n",
      "                                                        'anything', 'anyway',\n",
      "                                                        'anywhere', ...}),\n",
      "                                             None]},\n",
      "             pre_dispatch='2*n_jobs', refit=True, return_train_score=False,\n",
      "             scoring=None, verbose=0)-TFID|0.87|0.92|0.89|114|4|3|116|97.48%|96.61%\n"
     ]
    },
    {
     "name": "stdout",
     "output_type": "stream",
     "text": [
      "{'vec__max_features': 3000, 'vec__ngram_range': (1, 1), 'vec__stop_words': frozenset({'four', 'detail', 'de', 'thereupon', 'too', 'sixty', 'further', 'we', 'when', 'however', 'except', 'indeed', 'am', 'any', 'put', 'along', 'several', 'thence', 'co', 'where', 'hereby', 'etc', 'wherein', 'see', 'together', 'become', 'already', 'yet', 'what', 'above', 'found', 'rather', 'least', 'move', 'top', 'elsewhere', 'nor', 'down', 'ie', 'do', 'than', 'forty', 'the', 'themselves', 'even', 'somehow', 'i', 'sincere', 'himself', 'each', 'of', 'fire', 'enough', 'afterwards', 'everything', 'is', 'upon', 'was', 'would', 'everyone', 'toward', 'due', 'whereby', 'latter', 'alone', 'amoungst', 'hereafter', 'eight', 'whether', 'twenty', 'should', 'again', 'often', 'been', 'him', 'less', 'empty', 'hundred', 'they', 'after', 'whereas', 'had', 'has', 'via', 'twelve', 'none', 'now', 'must', 'all', 'without', 'about', 'thereafter', 'seeming', 'there', 'many', 'thru', 'were', 'system', 'take', 'could', 'his', 'three', 'beforehand', 'per', 'most', 'ourselves', 'myself', 'be', 'whose', 'which', 'serious', 'becoming', 'my', 'under', 'as', 'cry', 'whither', 'only', 'few', 'though', 'on', 'their', 'below', 'mill', 'fill', 'these', 'something', 'anyone', 'ever', 'amount', 'seems', 'here', 'inc', 'across', 'former', 'anyway', 'once', 'such', 'every', 'next', 'itself', 'an', 'thereby', 'until', 'ours', 'made', 'yourself', 'off', 'those', 'me', 'if', 'go', 'have', 'nobody', 'becomes', 'much', 'give', 'for', 'fifty', 'noone', 'before', 'not', 'find', 'third', 'else', 'hers', 'one', 'cant', 'herein', 'whence', 'interest', 'although', 'thick', 'throughout', 'but', 'eg', 'thus', 'behind', 'through', 'side', 'namely', 'hereupon', 'them', 'same', 'or', 'from', 'up', 'she', 'nevertheless', 'two', 'who', 'because', 'in', 'couldnt', 'other', 'so', 'sometimes', 'con', 'amongst', 'whoever', 'sometime', 'last', 'never', 'everywhere', 'our', 'someone', 'hence', 'anyhow', 'eleven', 'mine', 'among', 'anywhere', 'around', 'to', 'almost', 'another', 'yourselves', 'back', 'well', 'then', 'ten', 'onto', 'being', 'please', 'bill', 'seemed', 'show', 'beside', 'towards', 'beyond', 'and', 'formerly', 'anything', 'your', 'against', 'also', 'by', 'front', 'a', 'name', 'its', 'full', 'keep', 'out', 'it', 'more', 'within', 'therefore', 'into', 'can', 'moreover', 'mostly', 'are', 'that', 'nine', 'neither', 'will', 'whereupon', 'somewhere', 'nothing', 'either', 'he', 'whereafter', 'latterly', 'therein', 'no', 'meanwhile', 'both', 'since', 'cannot', 'besides', 'while', 'her', 'over', 'some', 'during', 'how', 'whenever', 'hasnt', 'five', 'un', 'wherever', 'nowhere', 'very', 'perhaps', 'seem', 'thin', 'this', 'whom', 'otherwise', 'others', 'why', 'whole', 'may', 'first', 'yours', 're', 'at', 'still', 'became', 'call', 'you', 'between', 'herself', 'describe', 'ltd', 'get', 'always', 'might', 'own', 'whatever', 'six', 'with', 'done', 'fifteen', 'us', 'bottom', 'part'})}\n",
      "|GridSearchCV(cv=5, error_score='raise-deprecating',\n",
      "             estimator=Pipeline(memory=None,\n",
      "                                steps=[('vec',\n",
      "                                        CountVectorizer(analyzer='word',\n",
      "                                                        binary=False,\n",
      "                                                        decode_error='strict',\n",
      "                                                        dtype=<class 'numpy.int64'>,\n",
      "                                                        encoding='utf-8',\n",
      "                                                        input='content',\n",
      "                                                        lowercase=True,\n",
      "                                                        max_df=1.0,\n",
      "                                                        max_features=None,\n",
      "                                                        min_df=1,\n",
      "                                                        ngram_range=(1, 1),\n",
      "                                                        preprocessor=None,\n",
      "                                                        stop_words=None,\n",
      "                                                        strip_accents=None,\n",
      "                                                        toke...\n",
      "                         'vec__stop_words': [frozenset({'a', 'about', 'above',\n",
      "                                                        'across', 'after',\n",
      "                                                        'afterwards', 'again',\n",
      "                                                        'against', 'all',\n",
      "                                                        'almost', 'alone',\n",
      "                                                        'along', 'already',\n",
      "                                                        'also', 'although',\n",
      "                                                        'always', 'am', 'among',\n",
      "                                                        'amongst', 'amoungst',\n",
      "                                                        'amount', 'an', 'and',\n",
      "                                                        'another', 'any',\n",
      "                                                        'anyhow', 'anyone',\n",
      "                                                        'anything', 'anyway',\n",
      "                                                        'anywhere', ...}),\n",
      "                                             None]},\n",
      "             pre_dispatch='2*n_jobs', refit=True, return_train_score=False,\n",
      "             scoring=None, verbose=0)-Count|0.88|0.95|0.91|115|5|0|121|100.0%|95.83%\n",
      "{'vec__max_features': 2000, 'vec__ngram_range': (1, 1), 'vec__stop_words': frozenset({'four', 'detail', 'de', 'thereupon', 'too', 'sixty', 'further', 'we', 'when', 'however', 'except', 'indeed', 'am', 'any', 'put', 'along', 'several', 'thence', 'co', 'where', 'hereby', 'etc', 'wherein', 'see', 'together', 'become', 'already', 'yet', 'what', 'above', 'found', 'rather', 'least', 'move', 'top', 'elsewhere', 'nor', 'down', 'ie', 'do', 'than', 'forty', 'the', 'themselves', 'even', 'somehow', 'i', 'sincere', 'himself', 'each', 'of', 'fire', 'enough', 'afterwards', 'everything', 'is', 'upon', 'was', 'would', 'everyone', 'toward', 'due', 'whereby', 'latter', 'alone', 'amoungst', 'hereafter', 'eight', 'whether', 'twenty', 'should', 'again', 'often', 'been', 'him', 'less', 'empty', 'hundred', 'they', 'after', 'whereas', 'had', 'has', 'via', 'twelve', 'none', 'now', 'must', 'all', 'without', 'about', 'thereafter', 'seeming', 'there', 'many', 'thru', 'were', 'system', 'take', 'could', 'his', 'three', 'beforehand', 'per', 'most', 'ourselves', 'myself', 'be', 'whose', 'which', 'serious', 'becoming', 'my', 'under', 'as', 'cry', 'whither', 'only', 'few', 'though', 'on', 'their', 'below', 'mill', 'fill', 'these', 'something', 'anyone', 'ever', 'amount', 'seems', 'here', 'inc', 'across', 'former', 'anyway', 'once', 'such', 'every', 'next', 'itself', 'an', 'thereby', 'until', 'ours', 'made', 'yourself', 'off', 'those', 'me', 'if', 'go', 'have', 'nobody', 'becomes', 'much', 'give', 'for', 'fifty', 'noone', 'before', 'not', 'find', 'third', 'else', 'hers', 'one', 'cant', 'herein', 'whence', 'interest', 'although', 'thick', 'throughout', 'but', 'eg', 'thus', 'behind', 'through', 'side', 'namely', 'hereupon', 'them', 'same', 'or', 'from', 'up', 'she', 'nevertheless', 'two', 'who', 'because', 'in', 'couldnt', 'other', 'so', 'sometimes', 'con', 'amongst', 'whoever', 'sometime', 'last', 'never', 'everywhere', 'our', 'someone', 'hence', 'anyhow', 'eleven', 'mine', 'among', 'anywhere', 'around', 'to', 'almost', 'another', 'yourselves', 'back', 'well', 'then', 'ten', 'onto', 'being', 'please', 'bill', 'seemed', 'show', 'beside', 'towards', 'beyond', 'and', 'formerly', 'anything', 'your', 'against', 'also', 'by', 'front', 'a', 'name', 'its', 'full', 'keep', 'out', 'it', 'more', 'within', 'therefore', 'into', 'can', 'moreover', 'mostly', 'are', 'that', 'nine', 'neither', 'will', 'whereupon', 'somewhere', 'nothing', 'either', 'he', 'whereafter', 'latterly', 'therein', 'no', 'meanwhile', 'both', 'since', 'cannot', 'besides', 'while', 'her', 'over', 'some', 'during', 'how', 'whenever', 'hasnt', 'five', 'un', 'wherever', 'nowhere', 'very', 'perhaps', 'seem', 'thin', 'this', 'whom', 'otherwise', 'others', 'why', 'whole', 'may', 'first', 'yours', 're', 'at', 'still', 'became', 'call', 'you', 'between', 'herself', 'describe', 'ltd', 'get', 'always', 'might', 'own', 'whatever', 'six', 'with', 'done', 'fifteen', 'us', 'bottom', 'part'})}\n",
      "|GridSearchCV(cv=5, error_score='raise-deprecating',\n",
      "             estimator=Pipeline(memory=None,\n",
      "                                steps=[('vec',\n",
      "                                        TfidfVectorizer(analyzer='word',\n",
      "                                                        binary=False,\n",
      "                                                        decode_error='strict',\n",
      "                                                        dtype=<class 'numpy.float64'>,\n",
      "                                                        encoding='utf-8',\n",
      "                                                        input='content',\n",
      "                                                        lowercase=True,\n",
      "                                                        max_df=1.0,\n",
      "                                                        max_features=None,\n",
      "                                                        min_df=1,\n",
      "                                                        ngram_range=(1, 1),\n",
      "                                                        norm='l2',\n",
      "                                                        preprocessor=None,\n",
      "                                                        smooth_idf=True,\n",
      "                                                        stop_words=...\n",
      "                         'vec__stop_words': [frozenset({'a', 'about', 'above',\n",
      "                                                        'across', 'after',\n",
      "                                                        'afterwards', 'again',\n",
      "                                                        'against', 'all',\n",
      "                                                        'almost', 'alone',\n",
      "                                                        'along', 'already',\n",
      "                                                        'also', 'although',\n",
      "                                                        'always', 'am', 'among',\n",
      "                                                        'amongst', 'amoungst',\n",
      "                                                        'amount', 'an', 'and',\n",
      "                                                        'another', 'any',\n",
      "                                                        'anyhow', 'anyone',\n",
      "                                                        'anything', 'anyway',\n",
      "                                                        'anywhere', ...}),\n",
      "                                             None]},\n",
      "             pre_dispatch='2*n_jobs', refit=True, return_train_score=False,\n",
      "             scoring=None, verbose=0)-TFID|0.88|0.94|0.87|111|8|0|120|100.0%|93.28%\n"
     ]
    }
   ],
   "source": [
    "def classify_posts_tune(model ='Bernoilli',vectorizer='Count'):\n",
    "    X_train,X_test,y_train,y_test=train_test_split(X,y,stratify=y)\n",
    "    \n",
    "    v= TfidfVectorizer() if(vectorizer =='TFID') else CountVectorizer()\n",
    "    pipe = Pipeline([ \n",
    "                     ('vec' ,v ) ,\n",
    "                      ('mnb', BernoulliNB())])\n",
    "    \n",
    "    if(model =='Multinomial'):\n",
    "        pipe = Pipeline([ \n",
    "                     ('vec' , v) , \n",
    "                      ('mnb', MultinomialNB())])\n",
    "    \n",
    "    \n",
    "    pipe.fit(X_train,y_train)\n",
    "    pipe_params = {\n",
    "    'vec__max_features': [100,1000,2000,3000,4000,5000,6000],\n",
    "    'vec__stop_words' :[stop_words.ENGLISH_STOP_WORDS,None],\n",
    "    'vec__ngram_range': [(1,1), (1,2)]\n",
    "     }\n",
    "    gs =GridSearchCV(pipe,pipe_params, cv=5)\n",
    "    gs.fit(X_train,y_train)\n",
    "    print( gs.best_params_)\n",
    "\n",
    "    evaluate_classifier(gs,vectorizer,pipe,X_test,y_test)\n",
    "    \n",
    "#----------------------------------------------------------------------------------    \n",
    "print(\"|Model Type|cvs| training score|test score| tn |fp|fn|tp|senitivity|specificity\")\n",
    "print(\"|---|---|---|---|---|---|---|---|---|---|\")\n",
    "\n",
    "classify_posts_tune(\"Bernoilli\",'Count')\n",
    "classify_posts_tune(\"Bernoilli\",'TFID')\n",
    "\n",
    "classify_posts_tune(\"Multinomial\",'Count')\n",
    "classify_posts_tune(\"Multinomial\",'TFID')\n"
   ]
  },
  {
   "cell_type": "markdown",
   "metadata": {},
   "source": [
    "### Parameter tuning for Naive Bays - \n",
    "\n",
    "Following were the best parameters that gave best score for both the models\n",
    "'vec__max_features': 6000, \n",
    "'vec__ngram_range': (1, 1)\n",
    "\n",
    "However, the score didn't do any better either than the model we already had. "
   ]
  },
  {
   "cell_type": "markdown",
   "metadata": {},
   "source": [
    "|Model Type|cvs| training score|test score| tn |fp|fn|tp|senitivity|specificity\n",
    "|---|---|---|---|---|---|---|---|---|---|\n",
    "|Bernoilli-Count|0.96|0.97|0.96|11852|648|286|12214|97.71%|94.82%\n",
    "|Bernoilli-TFID|0.96|0.97|0.96|11867|633|305|12195|97.56%|94.94%\n",
    "|Multinomial-Count|0.96|0.97|0.97|11878|622|252|12248|97.98%|95.02%\n",
    "|Multinomial-TFID|0.96|0.97|0.96|11844|656|234|12266|98.13%|94.75%"
   ]
  },
  {
   "cell_type": "markdown",
   "metadata": {},
   "source": [
    "### increasing the dataset to  50,000 posts for each rub-reddit.\n",
    "\n",
    "The score went down noticably to 80s , this may be still a good score but certainly rasies the issue of scalability and why the orginal accuracy is lowered?"
   ]
  },
  {
   "cell_type": "markdown",
   "metadata": {},
   "source": [
    "|Model Type|cvs| training score|test score| tn |fp|fn|tp|senitivity|specificity\n",
    "|---|---|---|---|---|---|---|---|---|---|\n",
    "|Bernoilli-Count|0.92|0.92|0.92|10572|1928|102|12398|99.18%|84.58%\n",
    "|Bernoilli-TFID|0.92|0.92|0.92|10589|1911|114|12386|99.09%|84.71%\n",
    "|Multinomial-Count|0.81|0.81|0.81|11917|583|4113|8387|67.1%|95.34%\n",
    "|Multinomial-TFID|0.81|0.81|0.81|11887|613|4165|8335|66.68%|95.1%\n",
    "|LogisticRegression-Count|0.92|0.92|0.93|10751|1749|118|12382|99.06%|86.01%\n",
    "|LogisticRegression-TFID|0.92|0.92|0.93|10806|1694|135|12365|98.92%|86.45%\n",
    "|SVM-Count|0.92|0.93|0.92|10753|1747|173|12327|98.62%|86.02%\n",
    "|SVM-TFID|0.92|0.93|0.92|10772|1728|151|12349|98.79%|86.18%"
   ]
  },
  {
   "cell_type": "markdown",
   "metadata": {},
   "source": [
    "# Conclusion\n",
    "The results were promising as the model was simple and yet could accurately predict 97% percent of the time if a post belongs to a subreddit or not.  (accuracy)\n",
    "For every correct 100 sumissions model agreed with 97 of them. (Sensitivity)\n",
    "Similarly, for every 100 wrong messages that landed in the sub-reddit model could predicted 95 of them correctly.(Specificity)\n",
    "\n",
    "While it might be some what expected as travel and food may not have a lot of overlapping words and classifier can do a pretty good job of putting them in the right buckets.\n",
    "\n",
    "For future work we need to investigate why model might performed to lower accuracy when trained on larger data set.\n",
    "Also, pulling in more sub-reddits and  then tuning the model for a classifier useful or borad range of categories."
   ]
  },
  {
   "cell_type": "markdown",
   "metadata": {},
   "source": [
    "# References\n",
    "\n",
    "https://www.youtube.com/watch?v=AcrjEWsMi_E&feature=youtu.be\n",
    "\n",
    "https://pandas.pydata.org/pandas-docs/stable/reference/api/pandas.Timestamp.html\n",
    "\n",
    "https://github.com/pushshift/api\n",
    "\n",
    "\n",
    "https://git.generalassemb.ly/DSI-US-10/5.02-lesson-webscraping/blob/lecture-wc/Codealong.ipynb\n",
    "\n",
    "https://api.pushshift.io/reddit/search/submission?subreddit=boardgames\n",
    "\n",
    "https://www.epochconverter.com/\n",
    "\n",
    "\n",
    "https://bigishdata.com/2016/12/05/classifying-amazon-reviews-with-scikit-learn-more-data-is-better-turns-out/\n",
    "\n",
    "https://www.datacamp.com/community/tutorials/wordcloud-python"
   ]
  }
 ],
 "metadata": {
  "kernelspec": {
   "display_name": "Python 3",
   "language": "python",
   "name": "python3"
  },
  "language_info": {
   "codemirror_mode": {
    "name": "ipython",
    "version": 3
   },
   "file_extension": ".py",
   "mimetype": "text/x-python",
   "name": "python",
   "nbconvert_exporter": "python",
   "pygments_lexer": "ipython3",
   "version": "3.7.4"
  }
 },
 "nbformat": 4,
 "nbformat_minor": 2
}
